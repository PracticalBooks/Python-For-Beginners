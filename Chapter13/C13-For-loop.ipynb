{
  "nbformat": 4,
  "nbformat_minor": 0,
  "metadata": {
    "colab": {
      "provenance": []
    },
    "kernelspec": {
      "name": "python3",
      "display_name": "Python 3"
    },
    "language_info": {
      "name": "python"
    }
  },
  "cells": [
    {
      "cell_type": "markdown",
      "source": [
        "**Programming our first for loop**"
      ],
      "metadata": {
        "id": "emvEDEMFJsAf"
      }
    },
    {
      "cell_type": "code",
      "execution_count": null,
      "metadata": {
        "id": "ziDehUEbJiK-"
      },
      "outputs": [],
      "source": [
        "ages = [25, 7, 39]\n",
        "\n",
        "for age in ages:\n",
        "  print(age)\n",
        "\n",
        "print(\"End of program\")"
      ]
    },
    {
      "cell_type": "markdown",
      "source": [
        "**For loop with strings**"
      ],
      "metadata": {
        "id": "Ow7N2MrlJvZL"
      }
    },
    {
      "cell_type": "code",
      "source": [
        "message = \"Hi SpaceX\"\n",
        "\n",
        "for character in message:\n",
        "  print(character)"
      ],
      "metadata": {
        "id": "uT0Lg5BYJv_j"
      },
      "execution_count": null,
      "outputs": []
    },
    {
      "cell_type": "markdown",
      "source": [
        "**For loop with dictionaries**"
      ],
      "metadata": {
        "id": "DfghW9sdJzHb"
      }
    },
    {
      "cell_type": "code",
      "source": [
        "cyclist = {\"firstName\":\"Egan\", \"lastName\":\"Bernal\", \"team\":\"Ineos\"}\n",
        "\n",
        "for key in cyclist:\n",
        "  print(key+\": \"+cyclist[key])"
      ],
      "metadata": {
        "id": "_FprdlDkJz9D"
      },
      "execution_count": null,
      "outputs": []
    },
    {
      "cell_type": "markdown",
      "source": [
        "**For loop with lists containing dictionaries**"
      ],
      "metadata": {
        "id": "FQzZEFfFJ2Pd"
      }
    },
    {
      "cell_type": "code",
      "source": [
        "nightclub1 = {\"name\":\"Perro negro\", \"location\":\"Poblado\"}\n",
        "nightclub2 = {\"name\":\"Teatro victoria\", \"location\":\"Poblado\"}\n",
        "\n",
        "nightclubs = [nightclub1, nightclub2]\n",
        "\n",
        "for nightclub in nightclubs:\n",
        "  print(nightclub[\"name\"]+\" - \"+nightclub[\"location\"])"
      ],
      "metadata": {
        "id": "QrNX3kXGJ287"
      },
      "execution_count": null,
      "outputs": []
    },
    {
      "cell_type": "markdown",
      "source": [
        "**The range function**"
      ],
      "metadata": {
        "id": "3xS4OtSPJ6S7"
      }
    },
    {
      "cell_type": "code",
      "source": [
        "numbers = [1, 2, 3, 4, 5]\n",
        "\n",
        "for number in numbers:\n",
        "  print(number)"
      ],
      "metadata": {
        "id": "wI7vtpmMJ6xz"
      },
      "execution_count": null,
      "outputs": []
    },
    {
      "cell_type": "markdown",
      "source": [
        "**Range function with a single argument**"
      ],
      "metadata": {
        "id": "AGeJaM4VJ-R7"
      }
    },
    {
      "cell_type": "code",
      "source": [
        "for number in range(6):\n",
        "  print(number)"
      ],
      "metadata": {
        "id": "LOdBiUIiJ-9z"
      },
      "execution_count": null,
      "outputs": []
    },
    {
      "cell_type": "markdown",
      "source": [
        "**Range function with multiple arguments**"
      ],
      "metadata": {
        "id": "Kjoky8GeKBRD"
      }
    },
    {
      "cell_type": "code",
      "source": [
        "for number in range(1, 7, 2):\n",
        "  print(number)"
      ],
      "metadata": {
        "id": "aXZU91z8KB2T"
      },
      "execution_count": null,
      "outputs": []
    },
    {
      "cell_type": "markdown",
      "source": [
        "**Exercise E13.1.**"
      ],
      "metadata": {
        "id": "XnmNgXRsKEzj"
      }
    },
    {
      "cell_type": "code",
      "source": [
        "stop = int(input())\n",
        "for number in range(stop):\n",
        "  print(\"Rocks\")"
      ],
      "metadata": {
        "id": "q3ZgTUBIKGGT"
      },
      "execution_count": null,
      "outputs": []
    },
    {
      "cell_type": "markdown",
      "source": [
        "**Exercise E13.3.**"
      ],
      "metadata": {
        "id": "HcQWhiFwKIHE"
      }
    },
    {
      "cell_type": "code",
      "source": [
        "groceryList  = [\"Bread\", \"Eggs\", \"Milk\"]\n",
        "for item in groceryList:\n",
        "  print(item)"
      ],
      "metadata": {
        "id": "fFbXTfL0KJjj"
      },
      "execution_count": null,
      "outputs": []
    }
  ]
}