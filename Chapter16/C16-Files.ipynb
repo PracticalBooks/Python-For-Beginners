{
  "nbformat": 4,
  "nbformat_minor": 0,
  "metadata": {
    "colab": {
      "provenance": []
    },
    "kernelspec": {
      "name": "python3",
      "display_name": "Python 3"
    },
    "language_info": {
      "name": "python"
    }
  },
  "cells": [
    {
      "cell_type": "markdown",
      "source": [
        "**savings.txt File**"
      ],
      "metadata": {
        "id": "qaZKJWU0d3fp"
      }
    },
    {
      "cell_type": "code",
      "execution_count": null,
      "metadata": {
        "id": "6l2_QFHrdu4j"
      },
      "outputs": [],
      "source": [
        "150,30,1200"
      ]
    },
    {
      "cell_type": "markdown",
      "source": [
        "**Opening a file**"
      ],
      "metadata": {
        "id": "vFZvJzfgd7rA"
      }
    },
    {
      "cell_type": "code",
      "source": [
        "savingsFile = open(\"savings.txt\")"
      ],
      "metadata": {
        "id": "SSnER9Eid9bI"
      },
      "execution_count": null,
      "outputs": []
    },
    {
      "cell_type": "markdown",
      "source": [
        "**Reading information from files**"
      ],
      "metadata": {
        "id": "ffB7oohaeAbH"
      }
    },
    {
      "cell_type": "code",
      "source": [
        "savingsFile = open(\"savings.txt\")\n",
        "content = savingsFile.read()\n",
        "\n",
        "print(content)"
      ],
      "metadata": {
        "id": "cGeKYRxseBD_"
      },
      "execution_count": null,
      "outputs": []
    },
    {
      "cell_type": "markdown",
      "source": [
        "**Separate information by commas**"
      ],
      "metadata": {
        "id": "lpLtvXzPeCwH"
      }
    },
    {
      "cell_type": "code",
      "source": [
        "savingsFile = open(\"savings.txt\")\n",
        "content = savingsFile.read()\n",
        "savings = content.split(\",\")\n",
        "\n",
        "print(savings)\n",
        "print(len(savings))\n",
        "print(savings[0])"
      ],
      "metadata": {
        "id": "4JfLBRDAeE4m"
      },
      "execution_count": null,
      "outputs": []
    },
    {
      "cell_type": "markdown",
      "source": [
        "**customers.txt File**"
      ],
      "metadata": {
        "id": "TGlE4KdyeJUv"
      }
    },
    {
      "cell_type": "code",
      "source": [
        "Juan,Meneses,41\n",
        "Alejandra,Uribe,24\n",
        "Gerardo,Cartagena,30"
      ],
      "metadata": {
        "id": "gzjexrxxeKQ3"
      },
      "execution_count": null,
      "outputs": []
    },
    {
      "cell_type": "markdown",
      "source": [
        "**Line-by-line reading**"
      ],
      "metadata": {
        "id": "OsLmB7BaeLtw"
      }
    },
    {
      "cell_type": "code",
      "source": [
        "file = open(\"customers.txt\")\n",
        "content = file.readlines()\n",
        "\n",
        "for line in content:\n",
        "  line = line.strip()\n",
        "  customerData = line.split(\",\")\n",
        "  print(\"First Name: \"+customerData[0])\n",
        "  print(\"Last Name: \"+customerData[1])\n",
        "  print(\"Age: \"+customerData[2])"
      ],
      "metadata": {
        "id": "0OpUfDrmeN0g"
      },
      "execution_count": null,
      "outputs": []
    },
    {
      "cell_type": "markdown",
      "source": [
        "**Writing information to files**"
      ],
      "metadata": {
        "id": "Fngy04A4eSDI"
      }
    },
    {
      "cell_type": "code",
      "source": [
        "savingsFile = open(\"savings.txt\")\n",
        "content = savingsFile.read()\n",
        "\n",
        "savingsFileW = open(\"savings.txt\", \"w\")\n",
        "newSaving = input(\"Enter your savings for the week: \")\n",
        "newContent = content + \",\" + newSaving\n",
        "\n",
        "savingsFileW.write(newContent)\n",
        "savingsFileW.close()"
      ],
      "metadata": {
        "id": "R-uGrBQTeSmQ"
      },
      "execution_count": null,
      "outputs": []
    },
    {
      "cell_type": "markdown",
      "source": [
        "**Reading data from the dataset**"
      ],
      "metadata": {
        "id": "EJLnro5leYkQ"
      }
    },
    {
      "cell_type": "code",
      "source": [
        "file = open(\"songs.csv\")\n",
        "content = file.readlines()\n",
        "\n",
        "i = 1\n",
        "while(i < len(content)):\n",
        "  line = content[i].strip()\n",
        "  songData = line.split(\",\")\n",
        "  print(songData[1])\n",
        "  i = i+1"
      ],
      "metadata": {
        "id": "UBdhDd_ueZWX"
      },
      "execution_count": null,
      "outputs": []
    }
  ]
}