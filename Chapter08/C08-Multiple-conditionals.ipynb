{
  "nbformat": 4,
  "nbformat_minor": 0,
  "metadata": {
    "colab": {
      "provenance": []
    },
    "kernelspec": {
      "name": "python3",
      "display_name": "Python 3"
    },
    "language_info": {
      "name": "python"
    }
  },
  "cells": [
    {
      "cell_type": "markdown",
      "source": [
        "**Example code for if-then-else structure**"
      ],
      "metadata": {
        "id": "FKo3lvSotLIM"
      }
    },
    {
      "cell_type": "code",
      "execution_count": null,
      "metadata": {
        "id": "FuoKY5bUtKB5"
      },
      "outputs": [],
      "source": [
        "temperature = float(input(\"Enter the temperature: \"))\n",
        "\n",
        "if(temperature > 27):\n",
        "  print(\"Buy ice cream\")\n",
        "else:\n",
        "  print(\"Buy orange juice\")\n",
        "\n",
        "print(\"End of program\")"
      ]
    },
    {
      "cell_type": "markdown",
      "source": [
        "**Exercise: Area of a Square**"
      ],
      "metadata": {
        "id": "Uw4k4DpitQ-8"
      }
    },
    {
      "cell_type": "code",
      "source": [
        "side = float(input(\"Enter the length of the square's side: \"))\n",
        "\n",
        "if(side > 0):\n",
        "  area = side*side\n",
        "  print(\"The area of the square is: \"+str(area))\n",
        "else:\n",
        "  print(\"Square's side must be greater than zero\")"
      ],
      "metadata": {
        "id": "NJp3heiotRh0"
      },
      "execution_count": null,
      "outputs": []
    },
    {
      "cell_type": "markdown",
      "source": [
        "**Example code for if-then-elif-else structure**"
      ],
      "metadata": {
        "id": "lHMJMdX5tVsK"
      }
    },
    {
      "cell_type": "code",
      "source": [
        "temperature = float(input(\"Enter the temperature: \"))\n",
        "\n",
        "if(temperature > 27):\n",
        "  print(\"Buy ice cream\")\n",
        "elif(temperature < 15):\n",
        "  print(\"Buy chocolate\")\n",
        "else:\n",
        "  print(\"Buy orange juice\")\n",
        "\n",
        "print(\"End of program\")"
      ],
      "metadata": {
        "id": "L7eQFb_BtWT8"
      },
      "execution_count": null,
      "outputs": []
    },
    {
      "cell_type": "markdown",
      "source": [
        "**The importance of condition ordering**"
      ],
      "metadata": {
        "id": "SkaXWSmQtY_2"
      }
    },
    {
      "cell_type": "code",
      "source": [
        "age = int(input(\"Enter you age: \"))\n",
        "\n",
        "if(age >= 18):\n",
        "  print(\"Adult\")\n",
        "elif(age >= 65):\n",
        "  print(\"Older adult\")"
      ],
      "metadata": {
        "id": "PxeDh3QGtZkM"
      },
      "execution_count": null,
      "outputs": []
    },
    {
      "cell_type": "markdown",
      "source": [
        "**Example code for \"amusement park\" exercise**"
      ],
      "metadata": {
        "id": "vqFzzR_ztdJm"
      }
    },
    {
      "cell_type": "code",
      "source": [
        "attractionType = int(input(\"Enter type 1) roller coaster 2) train: \"))\n",
        "\n",
        "if(attractionType == 1):\n",
        "  height = float(input(\"Enter your height: \"))\n",
        "  if(height >= 121.92):\n",
        "    print(\"Enjoy the roller coaster\")\n",
        "  else:\n",
        "    print(\"Height not allowed\")\n",
        "elif(attractionType == 2):\n",
        "  print(\"Enjoy the train ride\")\n",
        "\n",
        "print(\"End of program\")"
      ],
      "metadata": {
        "id": "2Qf_76mete6N"
      },
      "execution_count": null,
      "outputs": []
    },
    {
      "cell_type": "markdown",
      "source": [
        "**Example code for \"amusement park\" exercise (without nested conditionals)**"
      ],
      "metadata": {
        "id": "SfTAUTxmth9p"
      }
    },
    {
      "cell_type": "code",
      "source": [
        "attractionType = int(input(\"Enter type 1) roller coaster 2) train: \"))\n",
        "height = float(input(\"Enter your height: \"))\n",
        "\n",
        "if(attractionType == 2):\n",
        "  print(\"Enjoy the train ride\")\n",
        "elif(attractionType == 1 and height >= 121.92):\n",
        "  print(\"Enjoy the roller coaster\")\n",
        "elif(attractionType == 1 and height < 121.92):\n",
        "  print(\"Height not allowed\")\n",
        "\n",
        "print(\"End of program\")"
      ],
      "metadata": {
        "id": "rVlLOTIetiME"
      },
      "execution_count": null,
      "outputs": []
    },
    {
      "cell_type": "markdown",
      "source": [
        "**Exercise E8.1.**"
      ],
      "metadata": {
        "id": "mDfsPBQQtngk"
      }
    },
    {
      "cell_type": "code",
      "source": [
        "stars = 2\n",
        "if(stars > 3):\n",
        "  print(\"Would recommend\")\n",
        "else:\n",
        "  print(\"Would not recommend\")\n",
        "print(\"End of program\")"
      ],
      "metadata": {
        "id": "qnlULNg4tp2L"
      },
      "execution_count": null,
      "outputs": []
    },
    {
      "cell_type": "markdown",
      "source": [
        "**Exercise E8.3.**"
      ],
      "metadata": {
        "id": "1Dr3hALotp7V"
      }
    },
    {
      "cell_type": "code",
      "source": [
        "amountOfSpilledPaint = 20\n",
        "if(amountOfSpilledPaint >= 15):\n",
        "  print(\"Flappin flotsam, what's that\")\n",
        "elif(amountOfSpilledPaint > 0):\n",
        "  print(\"You could do better\")\n",
        "else:\n",
        "  print(\"You rock!\")\n",
        "print(\"End of program\")"
      ],
      "metadata": {
        "id": "w563s055ttms"
      },
      "execution_count": null,
      "outputs": []
    }
  ]
}