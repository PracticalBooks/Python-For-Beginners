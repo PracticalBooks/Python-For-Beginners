{
  "nbformat": 4,
  "nbformat_minor": 0,
  "metadata": {
    "colab": {
      "provenance": []
    },
    "kernelspec": {
      "name": "python3",
      "display_name": "Python 3"
    },
    "language_info": {
      "name": "python"
    }
  },
  "cells": [
    {
      "cell_type": "markdown",
      "source": [
        "**Counters with lists**"
      ],
      "metadata": {
        "id": "TkYYrGIY4tl1"
      }
    },
    {
      "cell_type": "code",
      "execution_count": null,
      "metadata": {
        "id": "09_75nZb4YMQ"
      },
      "outputs": [],
      "source": [
        "ages = [34, 50, 28, 20, 44]\n",
        "\n",
        "counterOver30 = 0\n",
        "i = 0\n",
        "while(i < len(ages)):\n",
        "  if(ages[i] > 30):\n",
        "    counterOver30 = counterOver30+1\n",
        "  i = i+1\n",
        "\n",
        "print(\"Total over 30: \"+str(counterOver30))"
      ]
    },
    {
      "cell_type": "markdown",
      "source": [
        "**Counters with lists containing dictionaries**"
      ],
      "metadata": {
        "id": "q0yzBMro4xKU"
      }
    },
    {
      "cell_type": "code",
      "source": [
        "city1 = {\"name\":\"Envigado\", \"population\":249800}\n",
        "city2 = {\"name\":\"Sabaneta\", \"population\":87981}\n",
        "city3 = {\"name\":\"Rionegro\", \"population\":147484}\n",
        "\n",
        "cities = [city1, city2, city3]\n",
        "counter = 0\n",
        "\n",
        "for city in cities:\n",
        "  if(city[\"population\"] > 90000):\n",
        "    counter = counter+1\n",
        "\n",
        "print(\"Population over 90000: \" + str(counter))"
      ],
      "metadata": {
        "id": "fI2hy8JX4xyU"
      },
      "execution_count": null,
      "outputs": []
    },
    {
      "cell_type": "markdown",
      "source": [
        "**Accumulators with lists**"
      ],
      "metadata": {
        "id": "LmqdMiIk40XT"
      }
    },
    {
      "cell_type": "code",
      "source": [
        "salaries = [3000, 1500, 800]\n",
        "\n",
        "salaryAccumulator = 0\n",
        "i = 0\n",
        "while(i < len(salaries)):\n",
        "  salaryAccumulator = salaryAccumulator + salaries[i]\n",
        "  i = i+1\n",
        "\n",
        "print(\"Total salary sum: \"+str(salaryAccumulator))"
      ],
      "metadata": {
        "id": "qboKpxw041zS"
      },
      "execution_count": null,
      "outputs": []
    },
    {
      "cell_type": "markdown",
      "source": [
        "**Accumulators with lists containing dictionaries**"
      ],
      "metadata": {
        "id": "9ziZnfNQ45Iz"
      }
    },
    {
      "cell_type": "code",
      "source": [
        "city1 = {\"name\":\"Envigado\", \"population\":249800}\n",
        "city2 = {\"name\":\"Sabaneta\", \"population\":87981}\n",
        "city3 = {\"name\":\"Rionegro\", \"population\":147484}\n",
        "\n",
        "cities = [city1, city2, city3]\n",
        "accumulator = 0\n",
        "\n",
        "for city in cities:\n",
        "  accumulator = accumulator + city[\"population\"]\n",
        "\n",
        "average = accumulator/len(cities)\n",
        "print(\"Average population: \"+str(average))"
      ],
      "metadata": {
        "id": "L1GAesvN414T"
      },
      "execution_count": null,
      "outputs": []
    },
    {
      "cell_type": "markdown",
      "source": [
        "**Flags**"
      ],
      "metadata": {
        "id": "IDlAArKC4-N0"
      }
    },
    {
      "cell_type": "code",
      "source": [
        "grades = [4.0, 2.0, 1.2, 4.7, 1.7]\n",
        "highGradeFlag = False\n",
        "\n",
        "for grade in grades:\n",
        "  if(grade > 4.5):\n",
        "    highGradeFlag = True\n",
        "    break\n",
        "\n",
        "if(highGradeFlag):\n",
        "  print(\"You obtained at least one high grade\")\n",
        "else:\n",
        "  print(\"You did not obtain high grades\")"
      ],
      "metadata": {
        "id": "-4aRhHE94-vE"
      },
      "execution_count": null,
      "outputs": []
    },
    {
      "cell_type": "markdown",
      "source": [
        "**Exercise E15.2.**"
      ],
      "metadata": {
        "id": "Ize3I9Qt5BkF"
      }
    },
    {
      "cell_type": "code",
      "source": [
        "ages = [20, 10, 29]\n",
        "\n",
        "for age in ages:\n",
        "  if(age < 15):\n",
        "    break\n",
        "  print(age)"
      ],
      "metadata": {
        "id": "CSeJ7ynN5DZE"
      },
      "execution_count": null,
      "outputs": []
    },
    {
      "cell_type": "markdown",
      "source": [
        "**Exercise E15.3.**"
      ],
      "metadata": {
        "id": "5dk4DN5o5Dd7"
      }
    },
    {
      "cell_type": "code",
      "source": [
        "a1 = {\"name\":\"2022 HX1\", \"distance\":1547214}\n",
        "a2 = {\"name\":\"2022 HA2\", \"distance\":2870734}\n",
        "a3 = {\"name\":\"101955 Bennu\", \"distance\":20188350}\n",
        "asteroids = [a1, a2, a3]"
      ],
      "metadata": {
        "id": "eieFWEPi5HFU"
      },
      "execution_count": null,
      "outputs": []
    }
  ]
}