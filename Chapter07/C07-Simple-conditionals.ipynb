{
  "nbformat": 4,
  "nbformat_minor": 0,
  "metadata": {
    "colab": {
      "provenance": []
    },
    "kernelspec": {
      "name": "python3",
      "display_name": "Python 3"
    },
    "language_info": {
      "name": "python"
    }
  },
  "cells": [
    {
      "cell_type": "markdown",
      "source": [
        "**Exercise square area**"
      ],
      "metadata": {
        "id": "dJjLBnsAsTIt"
      }
    },
    {
      "cell_type": "code",
      "execution_count": null,
      "metadata": {
        "id": "TBhYKUmisQG_"
      },
      "outputs": [],
      "source": [
        "side = float(input(\"Enter the length of the square's side: \"))\n",
        "area = side*side\n",
        "print(\"The area of the square is: \"+str(area))"
      ]
    },
    {
      "cell_type": "markdown",
      "source": [
        "**Boolean variables**"
      ],
      "metadata": {
        "id": "Up4H-ZqOsXXd"
      }
    },
    {
      "cell_type": "code",
      "source": [
        "hasKids = True\n",
        "print(type(hasKids))\n",
        "print(hasKids)"
      ],
      "metadata": {
        "id": "ZN5HIICIsX5d"
      },
      "execution_count": null,
      "outputs": []
    },
    {
      "cell_type": "markdown",
      "source": [
        "**Example code for the if-then structure**"
      ],
      "metadata": {
        "id": "2v6AgykIsd4Y"
      }
    },
    {
      "cell_type": "code",
      "source": [
        "temperature = float(input(\"Enter the temperature: \"))\n",
        "\n",
        "if(temperature > 27):\n",
        "  print(\"Buy ice cream\")\n",
        "\n",
        "print(\"End of program\")"
      ],
      "metadata": {
        "id": "yULSHPwcseed"
      },
      "execution_count": null,
      "outputs": []
    },
    {
      "cell_type": "markdown",
      "source": [
        "**Exercise milkshake (wrong solution)**"
      ],
      "metadata": {
        "id": "M8A1tZcnsiZ9"
      }
    },
    {
      "cell_type": "code",
      "source": [
        "temperature = float(input(\"Enter the temperature: \"))\n",
        "\n",
        "if(temperature > 27):\n",
        "  print(\"Buy ice cream\")\n",
        "print(\"Buy milkshake\")\n",
        "\n",
        "print(\"End of program\")"
      ],
      "metadata": {
        "id": "eridfgxVskPc"
      },
      "execution_count": null,
      "outputs": []
    },
    {
      "cell_type": "markdown",
      "source": [
        "**Exercise milkshake (correct solution)**"
      ],
      "metadata": {
        "id": "VujmpcNnsrvV"
      }
    },
    {
      "cell_type": "code",
      "source": [
        "temperature = float(input(\"Enter the temperature: \"))\n",
        "\n",
        "if(temperature > 27):\n",
        "  print(\"Buy ice cream\")\n",
        "  print(\"Buy milkshake\")\n",
        "\n",
        "print(\"End of program\")"
      ],
      "metadata": {
        "id": "i6k02nTustks"
      },
      "execution_count": null,
      "outputs": []
    },
    {
      "cell_type": "markdown",
      "source": [
        "**Flow of execution**"
      ],
      "metadata": {
        "id": "maZ1MPD5sxIV"
      }
    },
    {
      "cell_type": "code",
      "source": [
        "temperature = float(input(\"Enter the temperature: \"))\n",
        "cash = float(input(\"Enter the amount of cash: \"))\n",
        "\n",
        "if(temperature > 27) and (cash >= 5):\n",
        "  print(\"Buy ice cream\")\n",
        "\n",
        "print(\"End of program\")"
      ],
      "metadata": {
        "id": "fE5hP6Ltsx0V"
      },
      "execution_count": null,
      "outputs": []
    },
    {
      "cell_type": "markdown",
      "source": [
        "**Exercise E7.1.**"
      ],
      "metadata": {
        "id": "Tefh-P9ws0_G"
      }
    },
    {
      "cell_type": "code",
      "source": [
        "tickets = 5\n",
        "if(tickets > 5):\n",
        "  print(\"You and your friends can enter\")\n",
        "print(\"End of program\")"
      ],
      "metadata": {
        "id": "alHv3xZHs2T9"
      },
      "execution_count": null,
      "outputs": []
    }
  ]
}