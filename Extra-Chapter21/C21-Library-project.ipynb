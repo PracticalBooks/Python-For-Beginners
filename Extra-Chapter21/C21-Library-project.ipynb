{
  "nbformat": 4,
  "nbformat_minor": 0,
  "metadata": {
    "colab": {
      "provenance": []
    },
    "kernelspec": {
      "name": "python3",
      "display_name": "Python 3"
    },
    "language_info": {
      "name": "python"
    }
  },
  "cells": [
    {
      "cell_type": "markdown",
      "source": [
        "**Complete library project**"
      ],
      "metadata": {
        "id": "pYYdU9PYvqYt"
      }
    },
    {
      "cell_type": "code",
      "execution_count": null,
      "metadata": {
        "id": "kZeTXqJ7vT0p"
      },
      "outputs": [],
      "source": [
        "import random\n",
        "\n",
        "def showBooks():\n",
        "  for book in books:\n",
        "    print(\"Name: \"+book[\"name\"]+\" - Quantity: \"+str(book[\"quantity\"]))\n",
        "\n",
        "def addBook():\n",
        "  name = input(\"Enter the name: \")\n",
        "  quantity = int(input(\"Enter the quantity: \"))\n",
        "  newBook = {\"name\":name, \"quantity\":quantity}\n",
        "  books.append(newBook)\n",
        "\n",
        "def deleteBook():\n",
        "  index = int(input(\"Enter the index to delete: \"))\n",
        "  if(index >= 0 and index < len(books)):\n",
        "    books.pop(index)\n",
        "\n",
        "def showAvailableBooks():\n",
        "  for book in books:\n",
        "    if(book[\"quantity\"] > 0):\n",
        "      print(\"Name: \"+book[\"name\"]+\" - Quantity: \"+str(book[\"quantity\"]))\n",
        "\n",
        "def countAvailableBooks():\n",
        "  counter = 0\n",
        "  for book in books:\n",
        "    if(book[\"quantity\"] > 0):\n",
        "      counter = counter+1\n",
        "  print(\"Number of available books: \"+str(counter))\n",
        "\n",
        "def showBooksByInitialCharacter():\n",
        "   character = input(\"Enter the initial character: \")\n",
        "   for book in books:\n",
        "     if(book[\"name\"][0].lower() == character.lower()):\n",
        "      print(\"Name: \"+book[\"name\"]+\" - Quantity: \"+str(book[\"quantity\"]))\n",
        "\n",
        "def suggestRandomBook():\n",
        "  randomNum = random.randint(0, len(books)-1)\n",
        "  randomBook = books[randomNum]\n",
        "  print(\"Name: \"+randomBook[\"name\"]+\" - Quantity: \"+str(randomBook[\"quantity\"]))\n",
        "\n",
        "book1 = {\"name\":\"Dune\", \"quantity\":0}\n",
        "book2 = {\"name\":\"Interstellar\", \"quantity\":4}\n",
        "book3 = {\"name\":\"Tron\", \"quantity\":5}\n",
        "books = [book1, book2, book3]\n",
        "\n",
        "while(True):\n",
        "  print(\"----Enter----\")\n",
        "  print(\"1) To show the books\")\n",
        "  print(\"2) To add a book\")\n",
        "  print(\"3) To delete a book\")\n",
        "  print(\"4) To show the available books\")\n",
        "  print(\"5) To count the available books\")\n",
        "  print(\"6) To show books that match an initial character\")\n",
        "  print(\"7) To suggest a random book\")\n",
        "  print(\"0) To exit\")\n",
        "  option = int(input())\n",
        "  if(option == 1):\n",
        "    showBooks()\n",
        "  elif(option == 2):\n",
        "    addBook()\n",
        "  elif(option == 3):\n",
        "    deleteBook()\n",
        "  elif(option == 4):\n",
        "    showAvailableBooks()\n",
        "  elif(option == 5):\n",
        "    countAvailableBooks()\n",
        "  elif(option == 6):\n",
        "    showBooksByInitialCharacter()\n",
        "  elif(option == 7):\n",
        "    suggestRandomBook()\n",
        "  elif(option == 0):\n",
        "    print(\"Happy learning!!\")\n",
        "    break"
      ]
    }
  ]
}