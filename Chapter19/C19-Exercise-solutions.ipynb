{
  "nbformat": 4,
  "nbformat_minor": 0,
  "metadata": {
    "colab": {
      "provenance": []
    },
    "kernelspec": {
      "name": "python3",
      "display_name": "Python 3"
    },
    "language_info": {
      "name": "python"
    }
  },
  "cells": [
    {
      "cell_type": "markdown",
      "source": [
        "**E5.4.**"
      ],
      "metadata": {
        "id": "bPRt1YkCpSyu"
      }
    },
    {
      "cell_type": "code",
      "execution_count": null,
      "metadata": {
        "id": "KQiPtCslpBcf"
      },
      "outputs": [],
      "source": [
        "firstName = \"Juan\"\n",
        "lastName = \"Pinzón\"\n",
        "age = 19\n",
        "height = 168.2\n",
        "\n",
        "print(firstName)\n",
        "print(lastName)\n",
        "print(age)\n",
        "print(height)"
      ]
    },
    {
      "cell_type": "markdown",
      "source": [
        "**E6.4.**"
      ],
      "metadata": {
        "id": "j_P3ycKGpT9w"
      }
    },
    {
      "cell_type": "code",
      "source": [
        "firstName = input(\"Enter your first name: \")\n",
        "lastName = input(\"Enter your last name: \")\n",
        "age = int(input(\"Enter your age: \"))\n",
        "height = float(input(\"Enter your height: \"))\n",
        "\n",
        "print(firstName)\n",
        "print(type(firstName))\n",
        "print(lastName)\n",
        "print(type(lastName))\n",
        "print(age)\n",
        "print(type(age))\n",
        "print(height)\n",
        "print(type(height))"
      ],
      "metadata": {
        "id": "fTEkDzxXpZep"
      },
      "execution_count": null,
      "outputs": []
    },
    {
      "cell_type": "markdown",
      "source": [
        "**E6.5.**"
      ],
      "metadata": {
        "id": "dZ_dcCiepZsR"
      }
    },
    {
      "cell_type": "code",
      "source": [
        "firstName = input(\"Enter your first name: \")\n",
        "lastName = input(\"Enter your last name: \")\n",
        "print(lastName+\" \"+firstName)"
      ],
      "metadata": {
        "id": "DK4det3npe_p"
      },
      "execution_count": null,
      "outputs": []
    },
    {
      "cell_type": "markdown",
      "source": [
        "**E6.6.**"
      ],
      "metadata": {
        "id": "eznGRbkZpdUY"
      }
    },
    {
      "cell_type": "code",
      "source": [
        "estimatedYears = float(input(\"Enter the number of years: \"))\n",
        "realYears = estimatedYears/2\n",
        "print(\"The asteroid will fall in: \"+str(realYears)+\" years\")"
      ],
      "metadata": {
        "id": "5XPi4krWph0p"
      },
      "execution_count": null,
      "outputs": []
    },
    {
      "cell_type": "markdown",
      "source": [
        "**E7.4.**"
      ],
      "metadata": {
        "id": "xz38m5tmpdig"
      }
    },
    {
      "cell_type": "code",
      "source": [
        "distance = float(input(\"Enter the distance: \"))\n",
        "if(distance <= 4):\n",
        "  print(\"I'm coming over\")"
      ],
      "metadata": {
        "id": "NL2vWeU9pnaD"
      },
      "execution_count": null,
      "outputs": []
    },
    {
      "cell_type": "markdown",
      "source": [
        "**E7.5.**"
      ],
      "metadata": {
        "id": "WEoKCW8DpdtB"
      }
    },
    {
      "cell_type": "code",
      "source": [
        "jerseyNumber = int(input(\"Enter the jersey number: \"))\n",
        "if(jerseyNumber == 19):\n",
        "  print(\"What are you looking at fool? Get back there\")"
      ],
      "metadata": {
        "id": "wcGG8wGtpo7y"
      },
      "execution_count": null,
      "outputs": []
    },
    {
      "cell_type": "markdown",
      "source": [
        "**E7.6.**"
      ],
      "metadata": {
        "id": "OFJLex75pd3Q"
      }
    },
    {
      "cell_type": "code",
      "source": [
        "magnitude = float(input(\"Enter the magnitude of the earthquake: \"))\n",
        "if(magnitude >= 5.2):\n",
        "  print(\"Tsunami alert!!\")"
      ],
      "metadata": {
        "id": "EHYFWeEYpsn4"
      },
      "execution_count": null,
      "outputs": []
    },
    {
      "cell_type": "markdown",
      "source": [
        "**E8.4.**"
      ],
      "metadata": {
        "id": "D33vM6WXpeAA"
      }
    },
    {
      "cell_type": "code",
      "source": [
        "genre = input(\"Enter your favorite musical genre: \")\n",
        "if(genre == \"Rock\"):\n",
        "  print(\"You have good taste\")\n",
        "else:\n",
        "  print(\"Disgusting\")"
      ],
      "metadata": {
        "id": "hvMGypeVpxZh"
      },
      "execution_count": null,
      "outputs": []
    },
    {
      "cell_type": "markdown",
      "source": [
        "**E8.5.**"
      ],
      "metadata": {
        "id": "HCIcY1BVpvux"
      }
    },
    {
      "cell_type": "code",
      "source": [
        "name1 = input(\"Enter the name of the first student: \")\n",
        "votes1 = int(input(\"Enter the vote count for first student: \"))\n",
        "name2 = input(\"Enter the name of the second student: \")\n",
        "votes2 = int(input(\"Enter the vote count for second student: \"))\n",
        "\n",
        "if(votes1 > votes2):\n",
        "  print(name1)\n",
        "elif(votes2 > votes1):\n",
        "  print(name2)\n",
        "else:\n",
        "  print(\"Tie\")"
      ],
      "metadata": {
        "id": "IHKwcI2Sp0vx"
      },
      "execution_count": null,
      "outputs": []
    },
    {
      "cell_type": "markdown",
      "source": [
        "**E9.4.**"
      ],
      "metadata": {
        "id": "Dq0wyRyrpv3Y"
      }
    },
    {
      "cell_type": "code",
      "source": [
        "times = int(input(\"Enter a number: \"))\n",
        "i = 1\n",
        "while(i <= times):\n",
        "  print(\"****\")\n",
        "  i = i+1"
      ],
      "metadata": {
        "id": "InsWd0DYp4Oh"
      },
      "execution_count": null,
      "outputs": []
    },
    {
      "cell_type": "markdown",
      "source": [
        "**E9.5.**"
      ],
      "metadata": {
        "id": "4d26Na-Lpv_p"
      }
    },
    {
      "cell_type": "code",
      "source": [
        "while(True):\n",
        "  keyword = input(\"Enter the keyword: \")\n",
        "  if(keyword == \"Robert\"):\n",
        "    print(\"Correct keyword\")\n",
        "    break\n",
        "  else:\n",
        "    print(\"Incorrect keyword\")"
      ],
      "metadata": {
        "id": "4UygnffGp7jy"
      },
      "execution_count": null,
      "outputs": []
    },
    {
      "cell_type": "markdown",
      "source": [
        "**E10.4.**"
      ],
      "metadata": {
        "id": "3ELZQCYCpwIo"
      }
    },
    {
      "cell_type": "code",
      "source": [
        "text = input(\"Enter a text: \")\n",
        "firstChar = text[0]\n",
        "lastChar = text[len(text)-1]\n",
        "print(firstChar+lastChar)"
      ],
      "metadata": {
        "id": "UJkfy1qXp_xK"
      },
      "execution_count": null,
      "outputs": []
    },
    {
      "cell_type": "markdown",
      "source": [
        "**E10.5.**"
      ],
      "metadata": {
        "id": "8p7fsaHppwRI"
      }
    },
    {
      "cell_type": "code",
      "source": [
        "text = input(\"Enter your text: \")\n",
        "indexZ = text.find(\"z\")\n",
        "if(indexZ == -1):\n",
        "  print(\"Text does not contain letter z\")\n",
        "else:\n",
        "  print(\"Text contains letter z\")"
      ],
      "metadata": {
        "id": "A-Of7lo1qDJJ"
      },
      "execution_count": null,
      "outputs": []
    },
    {
      "cell_type": "markdown",
      "source": [
        "**E10.6.**"
      ],
      "metadata": {
        "id": "NAFaL0X9pwZA"
      }
    },
    {
      "cell_type": "code",
      "source": [
        "word = input(\"Enter your word: \")\n",
        "i = 0\n",
        "while(i < len(word)):\n",
        "  if(word[i] != \"a\" and word[i] != \"e\" and word[i] != \"i\" and word[i] != \"o\" and word[i] != \"u\"):\n",
        "    print(word[i])\n",
        "  i = i+1"
      ],
      "metadata": {
        "id": "E8URjewpqE5B"
      },
      "execution_count": null,
      "outputs": []
    },
    {
      "cell_type": "markdown",
      "source": [
        "**E11.4.**"
      ],
      "metadata": {
        "id": "gL6_LhW4qGSI"
      }
    },
    {
      "cell_type": "code",
      "source": [
        "movies = []\n",
        "i = 1\n",
        "while(i <= 4):\n",
        "  movie = input(\"Enter the name of your favorite movie: \")\n",
        "  movies.append(movie)\n",
        "  i = i+1\n",
        "\n",
        "print(movies)"
      ],
      "metadata": {
        "id": "p-aTCh4dqJw6"
      },
      "execution_count": null,
      "outputs": []
    },
    {
      "cell_type": "markdown",
      "source": [
        "**E11.5.**"
      ],
      "metadata": {
        "id": "i9SE-9u5qIni"
      }
    },
    {
      "cell_type": "code",
      "source": [
        "secretMessage = [\"Planet\", \"You\", \"Secret\", \"Are\", \"Zombie\", \"The\", \"Nuclear\", \"Alien\"]\n",
        "\n",
        "i = 1\n",
        "while(i < len(secretMessage)):\n",
        "  print(secretMessage[i])\n",
        "  i = i+2"
      ],
      "metadata": {
        "id": "KXjhFXd0qMwJ"
      },
      "execution_count": null,
      "outputs": []
    },
    {
      "cell_type": "markdown",
      "source": [
        "**E12.4.**"
      ],
      "metadata": {
        "id": "8BrXdQmqqIxR"
      }
    },
    {
      "cell_type": "code",
      "source": [
        "name = input(\"Enter the name of the pet: \")\n",
        "age = int(input(\"Enter the age of the pet: \"))\n",
        "gender = input(\"Enter the gender of the pet: \")\n",
        "\n",
        "pet = {\n",
        "  \"name\":name,\n",
        "  \"age\":age,\n",
        "  \"gender\":gender\n",
        "}\n",
        "\n",
        "print(pet)"
      ],
      "metadata": {
        "id": "R_0v2WLUqQI6"
      },
      "execution_count": null,
      "outputs": []
    },
    {
      "cell_type": "markdown",
      "source": [
        "**E12.5.**"
      ],
      "metadata": {
        "id": "nPo3UsWOqI6h"
      }
    },
    {
      "cell_type": "code",
      "source": [
        "numTeams = int(input(\"Enter the number of teams: \"))\n",
        "teams = []\n",
        "\n",
        "i = 1\n",
        "while(i <= numTeams):\n",
        "  name = input(\"Enter the name of the team: \")\n",
        "  country = input(\"Enter the country of the team: \")\n",
        "  team = {\"name\":name, \"country\":country}\n",
        "  teams.append(team)\n",
        "  i = i+1\n",
        "\n",
        "print(teams)"
      ],
      "metadata": {
        "id": "NNodTs29qT92"
      },
      "execution_count": null,
      "outputs": []
    },
    {
      "cell_type": "markdown",
      "source": [
        "**E13.4.i.**"
      ],
      "metadata": {
        "id": "0Am34NLZqJCA"
      }
    },
    {
      "cell_type": "code",
      "source": [
        "for number in range(1,81):\n",
        "  print(number)"
      ],
      "metadata": {
        "id": "n7J3_2kcqbW5"
      },
      "execution_count": null,
      "outputs": []
    },
    {
      "cell_type": "markdown",
      "source": [
        "**E13.4.ii.**"
      ],
      "metadata": {
        "id": "NmI2zvQTqJJ8"
      }
    },
    {
      "cell_type": "code",
      "source": [
        "for number in range(1000,-1,-100):\n",
        "  print(number)"
      ],
      "metadata": {
        "id": "DlELhp9aqdQS"
      },
      "execution_count": null,
      "outputs": []
    },
    {
      "cell_type": "markdown",
      "source": [
        "**E13.4.iii.**"
      ],
      "metadata": {
        "id": "ObL07GFwqY8q"
      }
    },
    {
      "cell_type": "code",
      "source": [
        "for number in range(2,67,2):\n",
        "  print(number)"
      ],
      "metadata": {
        "id": "h_x21I3wqeby"
      },
      "execution_count": null,
      "outputs": []
    },
    {
      "cell_type": "markdown",
      "source": [
        "**E13.5.**"
      ],
      "metadata": {
        "id": "4l9Ngpaqqga5"
      }
    },
    {
      "cell_type": "code",
      "source": [
        "names = []\n",
        "for number in range(4):\n",
        "  name = input(\"Enter name: \")\n",
        "  names.append(name)\n",
        "\n",
        "for name in names:\n",
        "  if(name[0] == \"L\"):\n",
        "    print(\"Name discarded\")\n",
        "  else:\n",
        "    print(\"Possible name\")"
      ],
      "metadata": {
        "id": "JNvVEVJ2qjMi"
      },
      "execution_count": null,
      "outputs": []
    },
    {
      "cell_type": "markdown",
      "source": [
        "**E14.4.**"
      ],
      "metadata": {
        "id": "JKLudNgaqiJU"
      }
    },
    {
      "cell_type": "code",
      "source": [
        "def printFirstName(names):\n",
        "  print(names[0])\n",
        "\n",
        "names = [\"Zeus\", \"Poseidon\", \"Ares\"]\n",
        "printFirstName(names)"
      ],
      "metadata": {
        "id": "MwJ9RV7QqpBC"
      },
      "execution_count": null,
      "outputs": []
    },
    {
      "cell_type": "markdown",
      "source": [
        "**E14.5.**"
      ],
      "metadata": {
        "id": "rT1M394qqiSY"
      }
    },
    {
      "cell_type": "code",
      "source": [
        "def add():\n",
        "  num1 = float(input(\"Enter first number: \"))\n",
        "  num2 = float(input(\"Enter second number: \"))\n",
        "  result = num1+num2\n",
        "  print(\"The result is: \"+str(result))\n",
        "\n",
        "def subtract():\n",
        "  num1 = float(input(\"Enter first number: \"))\n",
        "  num2 = float(input(\"Enter second number: \"))\n",
        "  result = num1-num2\n",
        "  print(\"The result is: \"+str(result))\n",
        "\n",
        "def multiply():\n",
        "  num1 = float(input(\"Enter first number: \"))\n",
        "  num2 = float(input(\"Enter second number: \"))\n",
        "  result = num1*num2\n",
        "  print(\"The result is: \"+str(result))\n",
        "\n",
        "def divide():\n",
        "  num1 = float(input(\"Enter first number: \"))\n",
        "  num2 = float(input(\"Enter second number: \"))\n",
        "  if(num2 == 0):\n",
        "    print(\"Invalid divisor\")\n",
        "  else:\n",
        "    result = num1/num2\n",
        "    print(\"The result is: \"+str(result))\n",
        "\n",
        "def square():\n",
        "  num1 = float(input(\"Enter the number: \"))\n",
        "  result = num1*num1\n",
        "  print(\"The result is: \"+str(result))\n",
        "\n",
        "while(True):\n",
        "  print(\"----Enter the operation----\")\n",
        "  print(\"1) Add\")\n",
        "  print(\"2) Subtract\")\n",
        "  print(\"3) Multiply\")\n",
        "  print(\"4) Divide\")\n",
        "  print(\"5) Square\")\n",
        "  print(\"0) Exit\")\n",
        "  operation = int(input())\n",
        "  if(operation == 1):\n",
        "    add()\n",
        "  elif(operation == 2):\n",
        "    subtract()\n",
        "  elif(operation == 3):\n",
        "    multiply()\n",
        "  elif(operation == 4):\n",
        "    divide()\n",
        "  elif(operation == 5):\n",
        "    square()\n",
        "  elif (operation == 0):\n",
        "    print(\"Bye =)\")\n",
        "    break"
      ],
      "metadata": {
        "id": "CD7M32mjqryp"
      },
      "execution_count": null,
      "outputs": []
    },
    {
      "cell_type": "markdown",
      "source": [
        "**E15.3.**"
      ],
      "metadata": {
        "id": "SCXKgJ9uqiZQ"
      }
    },
    {
      "cell_type": "code",
      "source": [
        "a1 = {\"name\":\"2022 HX1\", \"distance\":1547214}\n",
        "a2 = {\"name\":\"2022 HA2\", \"distance\":2870734}\n",
        "a3 = {\"name\":\"101955 Bennu\", \"distance\":20188350}\n",
        "asteroids = [a1, a2, a3]\n",
        "\n",
        "collisionCount = 0\n",
        "for asteroid in asteroids:\n",
        "  if(asteroid[\"distance\"] < 4660283):\n",
        "    collisionCount = collisionCount+1\n",
        "\n",
        "print(\"Asteroids with high collision probability:\"+str(collisionCount))"
      ],
      "metadata": {
        "id": "H2bi_FKgscaw"
      },
      "execution_count": null,
      "outputs": []
    },
    {
      "cell_type": "markdown",
      "source": [
        "**E15.4.**"
      ],
      "metadata": {
        "id": "WW2kTrsksbmY"
      }
    },
    {
      "cell_type": "code",
      "source": [
        "a1 = {\"name\":\"2022 HX1\", \"distance\":1547214}\n",
        "a2 = {\"name\":\"2022 HA2\", \"distance\":2870734}\n",
        "a3 = {\"name\":\"101955 Bennu\", \"distance\":20188350}\n",
        "asteroids = [a1, a2, a3]\n",
        "\n",
        "accumulator = 0\n",
        "for asteroid in asteroids:\n",
        "  accumulator = accumulator+asteroid[\"distance\"]\n",
        "\n",
        "averageDistance = accumulator/len(asteroids)\n",
        "print(\"Average distance: \"+str(averageDistance))"
      ],
      "metadata": {
        "id": "TLFrcpEcse8T"
      },
      "execution_count": null,
      "outputs": []
    },
    {
      "cell_type": "markdown",
      "source": [
        "**E16.3.i.**"
      ],
      "metadata": {
        "id": "UTUQR6r_sbwv"
      }
    },
    {
      "cell_type": "code",
      "source": [
        "file = open(\"songs.csv\")\n",
        "content = file.readlines()\n",
        "\n",
        "i = 1\n",
        "while(i < len(content)):\n",
        "  line = content[i].strip()\n",
        "  songData = line.split(\",\")\n",
        "  if(int(songData[4]) == 2000):\n",
        "    print(songData[1])\n",
        "  i = i+1"
      ],
      "metadata": {
        "id": "lnRs3gvqu_nO"
      },
      "execution_count": null,
      "outputs": []
    },
    {
      "cell_type": "markdown",
      "source": [
        "**E16.3.ii.**"
      ],
      "metadata": {
        "id": "lzZu_jDKsiwo"
      }
    },
    {
      "cell_type": "code",
      "source": [
        "file = open(\"songs.csv\")\n",
        "content = file.readlines()\n",
        "\n",
        "i = 1\n",
        "while(i < len(content)):\n",
        "  line = content[i].strip()\n",
        "  songData = line.split(\",\")\n",
        "  if(songData[0] == \"Eminem\"):\n",
        "    print(songData[1])\n",
        "  i = i+1"
      ],
      "metadata": {
        "id": "HZ_PigIFvD53"
      },
      "execution_count": null,
      "outputs": []
    },
    {
      "cell_type": "markdown",
      "source": [
        "**E16.3.iii.**"
      ],
      "metadata": {
        "id": "ECTpAKvrsp04"
      }
    },
    {
      "cell_type": "code",
      "source": [
        "file = open(\"songs.csv\")\n",
        "content = file.readlines()\n",
        "\n",
        "i = 1\n",
        "while(i < len(content)):\n",
        "  line = content[i].strip()\n",
        "  songData = line.split(\",\")\n",
        "  if(songData[1][0] == \"D\"):\n",
        "    print(songData[1])\n",
        "  i = i+1"
      ],
      "metadata": {
        "id": "9ociKOX7vHxP"
      },
      "execution_count": null,
      "outputs": []
    },
    {
      "cell_type": "markdown",
      "source": [
        "**E16.3.iv.**"
      ],
      "metadata": {
        "id": "qN3m64YNslug"
      }
    },
    {
      "cell_type": "code",
      "source": [
        "file = open(\"songs.csv\")\n",
        "content = file.readlines()\n",
        "\n",
        "counter = 0\n",
        "i = 1\n",
        "while(i < len(content)):\n",
        "  line = content[i].strip()\n",
        "  songData = line.split(\",\")\n",
        "  if(int(songData[2]) > 400000):\n",
        "    counter = counter+1\n",
        "  i = i+1\n",
        "\n",
        "print(counter)"
      ],
      "metadata": {
        "id": "6Tl4M3tCvJvo"
      },
      "execution_count": null,
      "outputs": []
    },
    {
      "cell_type": "markdown",
      "source": [
        "**E16.3.v.**"
      ],
      "metadata": {
        "id": "hVhAFCrVsmnK"
      }
    },
    {
      "cell_type": "code",
      "source": [
        "file = open(\"songs.csv\")\n",
        "content = file.readlines()\n",
        "\n",
        "accumulator = 0\n",
        "i = 1\n",
        "while(i < len(content)):\n",
        "  line = content[i].strip()\n",
        "  songData = line.split(\",\")\n",
        "  accumulator = accumulator+int(songData[5])\n",
        "  i = i+1\n",
        "\n",
        "average = accumulator/(len(content)-1) # minus one because the columns header\n",
        "print(average)"
      ],
      "metadata": {
        "id": "6LIHyXnRvONm"
      },
      "execution_count": null,
      "outputs": []
    },
    {
      "cell_type": "markdown",
      "source": [
        "**E17.4.**"
      ],
      "metadata": {
        "id": "fTP2R2aBsb25"
      }
    },
    {
      "cell_type": "code",
      "source": [
        "import matplotlib.pyplot as plt\n",
        "\n",
        "x = [2046, 2047, 2048, 2049, 2050]\n",
        "y = [0, 1, 8, 14, 2]\n",
        "\n",
        "plt.bar(x, y)\n",
        "plt.xlabel(\"Year\")\n",
        "plt.ylabel(\"Millions of Zombies\")\n",
        "plt.show()"
      ],
      "metadata": {
        "id": "vfAaAkk_vhUF"
      },
      "execution_count": null,
      "outputs": []
    }
  ]
}