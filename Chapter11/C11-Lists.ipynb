{
  "nbformat": 4,
  "nbformat_minor": 0,
  "metadata": {
    "colab": {
      "provenance": []
    },
    "kernelspec": {
      "name": "python3",
      "display_name": "Python 3"
    },
    "language_info": {
      "name": "python"
    }
  },
  "cells": [
    {
      "cell_type": "markdown",
      "source": [
        "**List creation**"
      ],
      "metadata": {
        "id": "v26KegKW2ir6"
      }
    },
    {
      "cell_type": "code",
      "execution_count": null,
      "metadata": {
        "id": "rmo1xNAz2QhZ"
      },
      "outputs": [],
      "source": [
        "ages = [28, 67, 40, 15]"
      ]
    },
    {
      "cell_type": "code",
      "source": [
        "names = [\"Peter\", \"Yuliana\", \"Valeria\"]\n",
        "print(names)\n",
        "print(type(names))"
      ],
      "metadata": {
        "id": "PGdSxG2i2ox6"
      },
      "execution_count": null,
      "outputs": []
    },
    {
      "cell_type": "markdown",
      "source": [
        "**Lists that store different types of data**"
      ],
      "metadata": {
        "id": "KTupcHJP2myr"
      }
    },
    {
      "cell_type": "code",
      "source": [
        "myData = [\"Luisa\", 37, \"lmalvarez33@eafit.edu.co\", 164.1]\n",
        "print(myData)"
      ],
      "metadata": {
        "id": "9xvXvJhZ2mOj"
      },
      "execution_count": null,
      "outputs": []
    },
    {
      "cell_type": "markdown",
      "source": [
        "**Properties of lists**"
      ],
      "metadata": {
        "id": "5mhnMDM82y_D"
      }
    },
    {
      "cell_type": "code",
      "source": [
        "names = [\"Peter\", \"Yuliana\", \"Valeria\"]"
      ],
      "metadata": {
        "id": "p9ZPdBXJ20Hz"
      },
      "execution_count": null,
      "outputs": []
    },
    {
      "cell_type": "markdown",
      "source": [
        "**Graphical representation of lists in memory**"
      ],
      "metadata": {
        "id": "vZkJfZit2353"
      }
    },
    {
      "cell_type": "code",
      "source": [
        "myData = [\"Luisa\", 18, 164.1]"
      ],
      "metadata": {
        "id": "Bf9sbmqf24os"
      },
      "execution_count": null,
      "outputs": []
    },
    {
      "cell_type": "markdown",
      "source": [
        "**Values and References**"
      ],
      "metadata": {
        "id": "fo6lYNHV28br"
      }
    },
    {
      "cell_type": "code",
      "source": [
        "age = 48\n",
        "hobbies = [\"Reading\"]"
      ],
      "metadata": {
        "id": "-VUmv6rQ29D8"
      },
      "execution_count": null,
      "outputs": []
    },
    {
      "cell_type": "markdown",
      "source": [
        "**Accessing elements of a list**"
      ],
      "metadata": {
        "id": "wkOT1yzK2_nz"
      }
    },
    {
      "cell_type": "code",
      "source": [
        "singers = [\"Shakira\", \"Karol G\", \"Feid\", \"Maluma\"]\n",
        "singer1 = singers[0]\n",
        "\n",
        "print(len(singers))\n",
        "print(singer1)\n",
        "print(singers[2])\n",
        "print(singers[len(singers)-1])"
      ],
      "metadata": {
        "id": "XSSYaEUX3AO7"
      },
      "execution_count": null,
      "outputs": []
    },
    {
      "cell_type": "markdown",
      "source": [
        "**Accessing elements of a list (error)**"
      ],
      "metadata": {
        "id": "kOmBJPdx3B-0"
      }
    },
    {
      "cell_type": "code",
      "source": [
        "singers = [\"Blessd\", \"Kapla\", \"Miky\", \"Onyl\"]\n",
        "singer6 = singers[6]\n",
        "print(singer6)"
      ],
      "metadata": {
        "id": "RLw-CdsA3GI9"
      },
      "execution_count": null,
      "outputs": []
    },
    {
      "cell_type": "markdown",
      "source": [
        "**Modifying elements of a list**"
      ],
      "metadata": {
        "id": "lAoNC23n3I-Y"
      }
    },
    {
      "cell_type": "code",
      "source": [
        "motorcycles = [\"Honda\", \"Yamaha\", \"Suzuki\"]\n",
        "print(motorcycles[0])\n",
        "\n",
        "motorcycles[0] = \"Ducati\"\n",
        "print(motorcycles[0])"
      ],
      "metadata": {
        "id": "Ykvu9PW83K46"
      },
      "execution_count": null,
      "outputs": []
    },
    {
      "cell_type": "markdown",
      "source": [
        "**Adding elements to a list**"
      ],
      "metadata": {
        "id": "LlhKsh7c3Mnz"
      }
    },
    {
      "cell_type": "code",
      "source": [
        "aliens = []\n",
        "aliens.append(\"E.T.\")\n",
        "aliens.append(\"Goku\")\n",
        "aliens.append(\"Marvin\")\n",
        "aliens.append(\"Gazoo\")\n",
        "print(aliens[3])"
      ],
      "metadata": {
        "id": "txGxtGZ63NYs"
      },
      "execution_count": null,
      "outputs": []
    },
    {
      "cell_type": "markdown",
      "source": [
        "**Removing elements from a list**"
      ],
      "metadata": {
        "id": "uElZ7ybw3QbD"
      }
    },
    {
      "cell_type": "code",
      "source": [
        "aliens = [\"E.T.\", \"Goku\", \"Marvin\", \"Gazoo\"]\n",
        "print(aliens[1])\n",
        "aliens.pop(1)\n",
        "print(aliens[1])"
      ],
      "metadata": {
        "id": "1x7T8FLq3RE7"
      },
      "execution_count": null,
      "outputs": []
    },
    {
      "cell_type": "markdown",
      "source": [
        "**Loops with lists**"
      ],
      "metadata": {
        "id": "2fd_Lc6b3TzL"
      }
    },
    {
      "cell_type": "code",
      "source": [
        "aliens = [\"E.T.\", \"Goku\", \"Marvin\", \"Gazoo\"]\n",
        "\n",
        "i = 0\n",
        "while(i < len(aliens)):\n",
        "  print(aliens[i])\n",
        "  i = i+1"
      ],
      "metadata": {
        "id": "zLSQfiiR3Vb8"
      },
      "execution_count": null,
      "outputs": []
    },
    {
      "cell_type": "markdown",
      "source": [
        "**Exercise E11.1.**"
      ],
      "metadata": {
        "id": "b415ulKY3X40"
      }
    },
    {
      "cell_type": "code",
      "source": [
        "colors = [\"Yellow\", \"Blue\", \"Red\"]\n",
        "print(len(colors))\n",
        "print(colors[1])"
      ],
      "metadata": {
        "id": "hGdrqG_I3Zu7"
      },
      "execution_count": null,
      "outputs": []
    },
    {
      "cell_type": "markdown",
      "source": [
        "**Exercise E11.3.**"
      ],
      "metadata": {
        "id": "5ts3fhmg3Z3b"
      }
    },
    {
      "cell_type": "code",
      "source": [
        "colors = [\"Yellow\", \"Blue\", \"Red\"]\n",
        "print(colors[len(colors)])"
      ],
      "metadata": {
        "id": "fszNSPDk3bDu"
      },
      "execution_count": null,
      "outputs": []
    },
    {
      "cell_type": "markdown",
      "source": [
        "**Exercise E11.5.**"
      ],
      "metadata": {
        "id": "1Jau-SeF3bJr"
      }
    },
    {
      "cell_type": "code",
      "source": [
        "secretMessage = [\"Planet\", \"You\", \"Secret\", \"Are\", \"Zombie\", \"The\", \"Nuclear\", \"Alien\"]"
      ],
      "metadata": {
        "id": "BB37CNg83fTj"
      },
      "execution_count": null,
      "outputs": []
    }
  ]
}