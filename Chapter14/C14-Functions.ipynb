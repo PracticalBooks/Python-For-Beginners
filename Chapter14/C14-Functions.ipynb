{
  "nbformat": 4,
  "nbformat_minor": 0,
  "metadata": {
    "colab": {
      "provenance": []
    },
    "kernelspec": {
      "name": "python3",
      "display_name": "Python 3"
    },
    "language_info": {
      "name": "python"
    }
  },
  "cells": [
    {
      "cell_type": "markdown",
      "source": [
        "**Values**"
      ],
      "metadata": {
        "id": "ut5SllyNIjxd"
      }
    },
    {
      "cell_type": "code",
      "execution_count": null,
      "metadata": {
        "id": "fKIlukVyIdd5"
      },
      "outputs": [],
      "source": [
        "price1 = 100\n",
        "price2 = price1\n",
        "print(price1)\n",
        "price2 = 200\n",
        "print(price1)"
      ]
    },
    {
      "cell_type": "markdown",
      "source": [
        "**References**"
      ],
      "metadata": {
        "id": "wBVgh9OvImdr"
      }
    },
    {
      "cell_type": "code",
      "source": [
        "motorcycles1 = [\"Yamaha\"]\n",
        "motorcycles2 = motorcycles1\n",
        "print(motorcycles1[0])\n",
        "motorcycles2[0] = \"Ducati\"\n",
        "print(motorcycles1[0])"
      ],
      "metadata": {
        "id": "O9pxMiclIn6b"
      },
      "execution_count": null,
      "outputs": []
    },
    {
      "cell_type": "markdown",
      "source": [
        "**Creating our first function**"
      ],
      "metadata": {
        "id": "DIf0oMj-Ishz"
      }
    },
    {
      "cell_type": "code",
      "source": [
        "def greet():\n",
        "  print(\"Welcome\")\n",
        "  print(\"To my program\")\n",
        "\n",
        "greet()\n",
        "print(\"End of program\")"
      ],
      "metadata": {
        "id": "9QJfkmpXIqN7"
      },
      "execution_count": null,
      "outputs": []
    },
    {
      "cell_type": "markdown",
      "source": [
        "**Exercise with function**"
      ],
      "metadata": {
        "id": "UHhJ9mArIvVD"
      }
    },
    {
      "cell_type": "code",
      "source": [
        "def greet():\n",
        "  print(\"Welcome\")\n",
        "  print(\"To my program\")\n",
        "\n",
        "greet()\n",
        "greet()"
      ],
      "metadata": {
        "id": "6yS4w11eIzBL"
      },
      "execution_count": null,
      "outputs": []
    },
    {
      "cell_type": "markdown",
      "source": [
        "**Functions with parameters**"
      ],
      "metadata": {
        "id": "vSTBQFv_I3es"
      }
    },
    {
      "cell_type": "code",
      "source": [
        "def customGreeting(firstName, lastName):\n",
        "  print(\"Hello \"+firstName+\" \"+lastName)\n",
        "\n",
        "customGreeting(\"Juliana\", \"Correa\")\n",
        "customGreeting(\"Gonzalo\", \"Velasquez\")"
      ],
      "metadata": {
        "id": "gH1RVQ1-I2PL"
      },
      "execution_count": null,
      "outputs": []
    },
    {
      "cell_type": "markdown",
      "source": [
        "**Functions with parameters (error)**"
      ],
      "metadata": {
        "id": "9rJ24afOI8QT"
      }
    },
    {
      "cell_type": "code",
      "source": [
        "def add(num1, num2):\n",
        "  result = num1+num2\n",
        "  print(result)\n",
        "\n",
        "add()"
      ],
      "metadata": {
        "id": "-D_EidK9I9Tj"
      },
      "execution_count": null,
      "outputs": []
    },
    {
      "cell_type": "markdown",
      "source": [
        "**Local scope**"
      ],
      "metadata": {
        "id": "O5exG9AHI_fT"
      }
    },
    {
      "cell_type": "code",
      "source": [
        "def add(num1, num2):\n",
        "  result = num1+num2\n",
        "  print(result)\n",
        "\n",
        "add(4, 6)\n",
        "print(result)"
      ],
      "metadata": {
        "id": "gmle7qiJJAlj"
      },
      "execution_count": null,
      "outputs": []
    },
    {
      "cell_type": "markdown",
      "source": [
        "**Global scope**"
      ],
      "metadata": {
        "id": "L3j20MpwJBvc"
      }
    },
    {
      "cell_type": "code",
      "source": [
        "def calculatePriceWithTax(price):\n",
        "  totalPrice = price+tax\n",
        "  print(totalPrice)\n",
        "\n",
        "tax = 10\n",
        "calculatePriceWithTax(100)"
      ],
      "metadata": {
        "id": "1Hr-X2nUJDPz"
      },
      "execution_count": null,
      "outputs": []
    },
    {
      "cell_type": "markdown",
      "source": [
        "**Functions with return statement**"
      ],
      "metadata": {
        "id": "bJjLERRWJHLk"
      }
    },
    {
      "cell_type": "code",
      "source": [
        "def calculateFine(daysLate):\n",
        "  if(daysLate > 7):\n",
        "    return daysLate*2\n",
        "  else:\n",
        "    return 3\n",
        "\n",
        "days = int(input(\"Enter the number of days late: \"))\n",
        "fine = calculateFine(days)\n",
        "print(\"You must pay a fine of \"+str(fine)+\" dollars\")"
      ],
      "metadata": {
        "id": "WdttadBsJHyz"
      },
      "execution_count": null,
      "outputs": []
    },
    {
      "cell_type": "markdown",
      "source": [
        "**Calculator**"
      ],
      "metadata": {
        "id": "q7swTngKJKEM"
      }
    },
    {
      "cell_type": "code",
      "source": [
        "def add():\n",
        "  num1 = float(input(\"Enter first number: \"))\n",
        "  num2 = float(input(\"Enter second number: \"))\n",
        "  result = num1+num2\n",
        "  print(\"The result is: \"+str(result))\n",
        "\n",
        "while(True):\n",
        "  print(\"----Enter the operation----\")\n",
        "  print(\"1) Add\")\n",
        "  print(\"0) Exit\")\n",
        "  operation = int(input())\n",
        "  if(operation == 1):\n",
        "    add()\n",
        "  elif(operation == 0):\n",
        "    print(\"Bye =)\")\n",
        "    break"
      ],
      "metadata": {
        "id": "7kpU1ez_JMxf"
      },
      "execution_count": null,
      "outputs": []
    },
    {
      "cell_type": "markdown",
      "source": [
        "**Subtraction operation**"
      ],
      "metadata": {
        "id": "UEFqaoRwJNoD"
      }
    },
    {
      "cell_type": "code",
      "source": [
        "def add():\n",
        "  num1 = float(input(\"Enter first number: \"))\n",
        "  num2 = float(input(\"Enter second number: \"))\n",
        "  result = num1+num2\n",
        "  print(\"The result is: \"+str(result))\n",
        "  \n",
        "def subtract():\n",
        "  num1 = float(input(\"Enter first number: \"))\n",
        "  num2 = float(input(\"Enter second number: \"))\n",
        "  result = num1-num2\n",
        "  print(\"The result is: \"+str(result))\n",
        "\n",
        "while(True):\n",
        "  print(\"----Enter the operation----\")\n",
        "  print(\"1) Add\")\n",
        "  print(\"2) Subtract\")\n",
        "  print(\"0) Exit\")\n",
        "  operation = int(input())\n",
        "  if(operation == 1):\n",
        "    add()\n",
        "  elif(operation == 2):\n",
        "    subtract()\n",
        "  elif(operation == 0):\n",
        "    print(\"Bye =)\")\n",
        "    break"
      ],
      "metadata": {
        "id": "jkIl8JUwJPHr"
      },
      "execution_count": null,
      "outputs": []
    },
    {
      "cell_type": "markdown",
      "source": [
        "**Exercise E14.1.**"
      ],
      "metadata": {
        "id": "GGXvzbCjJRYL"
      }
    },
    {
      "cell_type": "code",
      "source": [
        "def strangeOccurrence(word):\n",
        "  print(\"I saw a \"+word+\" last night.\")\n",
        "\n",
        "strangeOccurrence(\"UFO\")"
      ],
      "metadata": {
        "id": "t_Kr7u4lJVdl"
      },
      "execution_count": null,
      "outputs": []
    },
    {
      "cell_type": "markdown",
      "source": [
        "**Exercise E14.3.**"
      ],
      "metadata": {
        "id": "pZW5TgXEJVjc"
      }
    },
    {
      "cell_type": "code",
      "source": [
        "def lottery(num):\n",
        "  if(num == 88):\n",
        "    print(\"You won!!\")\n",
        "\n",
        "lottery(67)\n",
        "lottery(88)"
      ],
      "metadata": {
        "id": "Xn5vPxMMJYO2"
      },
      "execution_count": null,
      "outputs": []
    },
    {
      "cell_type": "markdown",
      "source": [
        "**Exercise E14.4.**"
      ],
      "metadata": {
        "id": "JzHXOmjlJZ-7"
      }
    },
    {
      "cell_type": "code",
      "source": [
        "def printFirstName(names):\n",
        "\n",
        "\n",
        "names = [\"Zeus\", \"Poseidon\", \"Ares\"]\n",
        "printFirstName(names)"
      ],
      "metadata": {
        "id": "l-A0nvf4Jast"
      },
      "execution_count": null,
      "outputs": []
    }
  ]
}