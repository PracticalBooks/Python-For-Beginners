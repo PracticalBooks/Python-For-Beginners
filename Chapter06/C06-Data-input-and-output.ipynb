{
  "nbformat": 4,
  "nbformat_minor": 0,
  "metadata": {
    "colab": {
      "provenance": []
    },
    "kernelspec": {
      "name": "python3",
      "display_name": "Python 3"
    },
    "language_info": {
      "name": "python"
    }
  },
  "cells": [
    {
      "cell_type": "markdown",
      "source": [
        "**The input function**"
      ],
      "metadata": {
        "id": "2IO1sVSPrDKq"
      }
    },
    {
      "cell_type": "code",
      "execution_count": null,
      "metadata": {
        "id": "lLOcEmpPq44O"
      },
      "outputs": [],
      "source": [
        "print(\"Enter your name: \")\n",
        "name = input()\n",
        "print(\"Your name is: \")\n",
        "print(name)"
      ]
    },
    {
      "cell_type": "markdown",
      "source": [
        "**input function – default data type (error)**"
      ],
      "metadata": {
        "id": "njTLbfRyrPpl"
      }
    },
    {
      "cell_type": "code",
      "source": [
        "age = input(\"Enter your age: \")\n",
        "halfAge = age/2\n",
        "print(halfAge)"
      ],
      "metadata": {
        "id": "kk-7eSN9rROA"
      },
      "execution_count": null,
      "outputs": []
    },
    {
      "cell_type": "markdown",
      "source": [
        "**int function**"
      ],
      "metadata": {
        "id": "7eyajy4BrUAt"
      }
    },
    {
      "cell_type": "code",
      "source": [
        "age = int(input(\"Enter your age: \"))\n",
        "halfAge = age/2\n",
        "print(halfAge)"
      ],
      "metadata": {
        "id": "oxcqvrhUrVot"
      },
      "execution_count": null,
      "outputs": []
    },
    {
      "cell_type": "markdown",
      "source": [
        "**int, str, and float functions**"
      ],
      "metadata": {
        "id": "YCMLN9SHrYyu"
      }
    },
    {
      "cell_type": "code",
      "source": [
        "fatherAge = input(\"Enter age: \")\n",
        "motherAge = int(input(\"Enter age: \"))\n",
        "fatherHeight = float(input(\"Enter height: \"))\n",
        "print(type(fatherAge))\n",
        "print(type(motherAge))\n",
        "print(type(fatherHeight))\n",
        "print(fatherAge)\n",
        "print(motherAge)\n",
        "print(fatherHeight)"
      ],
      "metadata": {
        "id": "1LtI3IjZrcDY"
      },
      "execution_count": null,
      "outputs": []
    },
    {
      "cell_type": "markdown",
      "source": [
        "**The print function**"
      ],
      "metadata": {
        "id": "7RMJ5KBdrftG"
      }
    },
    {
      "cell_type": "code",
      "source": [
        "name = \"Paola\"\n",
        "age = 30\n",
        "print(\"Name: \")\n",
        "print(name)\n",
        "print(\"Age: \")\n",
        "print(age)"
      ],
      "metadata": {
        "id": "PZIloTugrgTW"
      },
      "execution_count": null,
      "outputs": []
    },
    {
      "cell_type": "markdown",
      "source": [
        "**Concatenation of data on screen output (error)**"
      ],
      "metadata": {
        "id": "w-JLdwBmri85"
      }
    },
    {
      "cell_type": "code",
      "source": [
        "productName = \"Chromecast\"\n",
        "productPrice = 30\n",
        "print(\"Name: \"+productName)\n",
        "print(\"Price: \"+productPrice)"
      ],
      "metadata": {
        "id": "GVcAG7vtrk1-"
      },
      "execution_count": null,
      "outputs": []
    },
    {
      "cell_type": "markdown",
      "source": [
        "**Concatenation of data on screen output**"
      ],
      "metadata": {
        "id": "FF_2d9q_rnvW"
      }
    },
    {
      "cell_type": "code",
      "source": [
        "productName = \"Chromecast\"\n",
        "productPrice = 30\n",
        "print(\"Name: \"+productName)\n",
        "print(\"Price: \"+str(productPrice))"
      ],
      "metadata": {
        "id": "eqFhEP-dro-v"
      },
      "execution_count": null,
      "outputs": []
    },
    {
      "cell_type": "markdown",
      "source": [
        "**Printing with commas separation**"
      ],
      "metadata": {
        "id": "OnuXYVLKrtLt"
      }
    },
    {
      "cell_type": "code",
      "source": [
        "productName = \"Chromecast\"\n",
        "productPrice = 30\n",
        "print(\"Name:\",productName,\"- Price:\",productPrice)"
      ],
      "metadata": {
        "id": "29a_Vmg7rwit"
      },
      "execution_count": null,
      "outputs": []
    },
    {
      "cell_type": "markdown",
      "source": [
        "**Exercise E6.1.**"
      ],
      "metadata": {
        "id": "vraNQkrhrz-m"
      }
    },
    {
      "cell_type": "code",
      "source": [
        "elonAge = 51\n",
        "bezosAge = input(\"Enter age: \")\n",
        "bezosAgeModified = int(bezosAge)"
      ],
      "metadata": {
        "id": "Wp0HJgXLr1xe"
      },
      "execution_count": null,
      "outputs": []
    }
  ]
}