{
  "nbformat": 4,
  "nbformat_minor": 0,
  "metadata": {
    "colab": {
      "provenance": []
    },
    "kernelspec": {
      "name": "python3",
      "display_name": "Python 3"
    },
    "language_info": {
      "name": "python"
    }
  },
  "cells": [
    {
      "cell_type": "markdown",
      "source": [
        "**Creation of dictionaries**"
      ],
      "metadata": {
        "id": "EHdkjZnU3zAL"
      }
    },
    {
      "cell_type": "code",
      "execution_count": null,
      "metadata": {
        "id": "ubgNEl5Y3vvA"
      },
      "outputs": [],
      "source": [
        "myData = {\n",
        "  \"name\":\"Luisa\",\n",
        "  \"age\":18,\n",
        "  \"height\":164.1\n",
        "}"
      ]
    },
    {
      "cell_type": "code",
      "source": [
        "product = {\n",
        "  \"name\":\"iPhone 14\",\n",
        "  \"price\":799,\n",
        "  \"color\":\"midnight\"\n",
        "}\n",
        "print(product)\n",
        "print(type(product))"
      ],
      "metadata": {
        "id": "35saccB930_K"
      },
      "execution_count": null,
      "outputs": []
    },
    {
      "cell_type": "markdown",
      "source": [
        "**Properties of dictionaries**"
      ],
      "metadata": {
        "id": "JZR6iYXy33zK"
      }
    },
    {
      "cell_type": "code",
      "source": [
        "artist = {\"firstName\":\"Fernando\", \"lastName\":\"Botero\", \"age\":90}"
      ],
      "metadata": {
        "id": "aXy-HZwq34bi"
      },
      "execution_count": null,
      "outputs": []
    },
    {
      "cell_type": "markdown",
      "source": [
        "**Graphical representation of dictionaries in memory**"
      ],
      "metadata": {
        "id": "GV-LjOM136Ha"
      }
    },
    {
      "cell_type": "code",
      "source": [
        "myData = {\"name\":\"Luisa\", \"age\":18, \"height\":164.1}"
      ],
      "metadata": {
        "id": "rtYRM4F238JR"
      },
      "execution_count": null,
      "outputs": []
    },
    {
      "cell_type": "markdown",
      "source": [
        "**Using lists**"
      ],
      "metadata": {
        "id": "pFcRKr6w3_wy"
      }
    },
    {
      "cell_type": "code",
      "source": [
        "grades = [4.5, 3.0, 5.0]\n",
        "days = [\"Monday\", \"Tuesday\", \"Wednesday\"]\n",
        "ages = [40, 12, 29, 55]"
      ],
      "metadata": {
        "id": "rb475gWH4A4S"
      },
      "execution_count": null,
      "outputs": []
    },
    {
      "cell_type": "markdown",
      "source": [
        "**Using dictionaries**"
      ],
      "metadata": {
        "id": "AiZ4yJuZ4CJK"
      }
    },
    {
      "cell_type": "code",
      "source": [
        "computer = {\"brand\":\"Dell\", \"processor\":\"i7\"}\n",
        "character = {\"name\":\"Magician\", \"attack\":20}\n",
        "country = {\"name\":\"Colombia\", \"capitalCity\":\"Bogotá\"}"
      ],
      "metadata": {
        "id": "YVxLkvyU4D5q"
      },
      "execution_count": null,
      "outputs": []
    },
    {
      "cell_type": "markdown",
      "source": [
        "**Accessing values of a dictionary**"
      ],
      "metadata": {
        "id": "DSmDC3mk4Gtd"
      }
    },
    {
      "cell_type": "code",
      "source": [
        "car = {\n",
        "  \"brand\":\"Toyota\",\n",
        "  \"color\":\"Black\"\n",
        "}\n",
        "\n",
        "print(len(car))\n",
        "print(car[\"brand\"])\n",
        "print(car[\"color\"])"
      ],
      "metadata": {
        "id": "-E5OkgVV4HVa"
      },
      "execution_count": null,
      "outputs": []
    },
    {
      "cell_type": "markdown",
      "source": [
        "**Modifying values of a dictionary**"
      ],
      "metadata": {
        "id": "3HE1KXl14Jsy"
      }
    },
    {
      "cell_type": "code",
      "source": [
        "car = {\n",
        "  \"brand\":\"Toyota\",\n",
        "  \"color\":\"Black\"\n",
        "}\n",
        "\n",
        "print(car[\"color\"])\n",
        "car[\"color\"] = \"Red\"\n",
        "print(car[\"color\"])"
      ],
      "metadata": {
        "id": "eaoqsCn44KSa"
      },
      "execution_count": null,
      "outputs": []
    },
    {
      "cell_type": "markdown",
      "source": [
        "**Adding values to a dictionary**"
      ],
      "metadata": {
        "id": "wBucFTpd4NiC"
      }
    },
    {
      "cell_type": "code",
      "source": [
        "car = {\n",
        "  \"brand\":\"Toyota\",\n",
        "  \"color\":\"Black\"\n",
        "}\n",
        "\n",
        "car[\"cargoBox\"] = \"SkyBox 16\"\n",
        "car[\"fender\"] = \"Pocket Style\"\n",
        "print(car[\"cargoBox\"])\n",
        "print(car)"
      ],
      "metadata": {
        "id": "9Wqc71x54ODx"
      },
      "execution_count": null,
      "outputs": []
    },
    {
      "cell_type": "markdown",
      "source": [
        "**Removing values from a dictionary**"
      ],
      "metadata": {
        "id": "YIgd8x7H4Qwr"
      }
    },
    {
      "cell_type": "code",
      "source": [
        "car = {\n",
        "  \"brand\":\"Toyota\",\n",
        "  \"color\":\"Black\",\n",
        "  \"cargoBox\":\"SkyBox 16\"\n",
        "}\n",
        "\n",
        "print(car)\n",
        "car.pop(\"cargoBox\")\n",
        "print(car)"
      ],
      "metadata": {
        "id": "fm0NaG4a4Rfj"
      },
      "execution_count": null,
      "outputs": []
    },
    {
      "cell_type": "markdown",
      "source": [
        "**Lists containing dictionaries**"
      ],
      "metadata": {
        "id": "F8Qk3Sog4U2R"
      }
    },
    {
      "cell_type": "code",
      "source": [
        "product1 = {\"name\":\"Monitor\", \"price\":119}\n",
        "product2 = {\"name\":\"Mouse\", \"price\":6}\n",
        "\n",
        "productList = []\n",
        "productList.append(product1)\n",
        "productList.append(product2)\n",
        "\n",
        "print(productList)\n",
        "print(productList[0])\n",
        "print(productList[0][\"name\"])"
      ],
      "metadata": {
        "id": "p4Qad5Hg4VWa"
      },
      "execution_count": null,
      "outputs": []
    },
    {
      "cell_type": "markdown",
      "source": [
        "**Loops with lists containing dictionaries**"
      ],
      "metadata": {
        "id": "7Fi4x2py4YqJ"
      }
    },
    {
      "cell_type": "code",
      "source": [
        "product1 = {\"name\":\"Monitor\", \"price\":119}\n",
        "product2 = {\"name\":\"Mouse\", \"price\":6}\n",
        "\n",
        "productList = [product1, product2]\n",
        "\n",
        "i = 0\n",
        "while(i < len(productList)):\n",
        "  print(\"Product name: \"+productList[i][\"name\"])\n",
        "  print(\"Product price: \"+str(productList[i][\"price\"]))\n",
        "  i = i+1"
      ],
      "metadata": {
        "id": "IGUyI7fP4ZQ9"
      },
      "execution_count": null,
      "outputs": []
    },
    {
      "cell_type": "markdown",
      "source": [
        "**Exercise E12.1.**"
      ],
      "metadata": {
        "id": "KM9MzAiL4b-C"
      }
    },
    {
      "cell_type": "code",
      "source": [
        "character = {\"name\":\"Magician\", \"attack\":30.5, \"health\":100}\n",
        "print(character[\"name\"])\n",
        "print(type(character[\"attack\"]))"
      ],
      "metadata": {
        "id": "BxS-_brI4dOa"
      },
      "execution_count": null,
      "outputs": []
    }
  ]
}