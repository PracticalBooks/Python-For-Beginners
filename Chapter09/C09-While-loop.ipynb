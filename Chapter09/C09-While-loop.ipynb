{
  "nbformat": 4,
  "nbformat_minor": 0,
  "metadata": {
    "colab": {
      "provenance": []
    },
    "kernelspec": {
      "name": "python3",
      "display_name": "Python 3"
    },
    "language_info": {
      "name": "python"
    }
  },
  "cells": [
    {
      "cell_type": "markdown",
      "source": [
        "**Introduction**"
      ],
      "metadata": {
        "id": "lJPVLLmRz1sf"
      }
    },
    {
      "cell_type": "code",
      "execution_count": null,
      "metadata": {
        "id": "QDFpLZShuD8C"
      },
      "outputs": [],
      "source": [
        "print(\"Welcome to Python\")\n",
        "print(\"Welcome to Python\")\n",
        "print(\"Welcome to Python\")"
      ]
    },
    {
      "cell_type": "markdown",
      "source": [
        "**While loop**"
      ],
      "metadata": {
        "id": "uZtIdA810ArY"
      }
    },
    {
      "cell_type": "code",
      "source": [
        "i = 1\n",
        "while(i <= 3):\n",
        "  print(\"Welcome to Python\")\n",
        "  i = i+1\n",
        "\n",
        "print(\"End of program\")"
      ],
      "metadata": {
        "id": "jdFOxnc30B79"
      },
      "execution_count": null,
      "outputs": []
    },
    {
      "cell_type": "markdown",
      "source": [
        "**Example of a while loop with step-by-step tracking**"
      ],
      "metadata": {
        "id": "Xj-F3i480GXF"
      }
    },
    {
      "cell_type": "code",
      "source": [
        "i = 1\n",
        "while(i <= 5):\n",
        "  print(i)\n",
        "  i = i+1\n",
        "\n",
        "print(\"End of program\")"
      ],
      "metadata": {
        "id": "M6CJYuta0G9O"
      },
      "execution_count": null,
      "outputs": []
    },
    {
      "cell_type": "markdown",
      "source": [
        "**Exercise 1**"
      ],
      "metadata": {
        "id": "bvnOV-z50KEw"
      }
    },
    {
      "cell_type": "code",
      "source": [
        "i = 5\n",
        "while(i <= 25):\n",
        "  print(i)\n",
        "  i = i+5"
      ],
      "metadata": {
        "id": "E_aEQ4Ii0LMn"
      },
      "execution_count": null,
      "outputs": []
    },
    {
      "cell_type": "markdown",
      "source": [
        "**Exercise 2**"
      ],
      "metadata": {
        "id": "dZTY1T6E0LRe"
      }
    },
    {
      "cell_type": "code",
      "source": [
        "i = 10\n",
        "while(i >= 0):\n",
        "  print(i)\n",
        "  i = i-1"
      ],
      "metadata": {
        "id": "dkwNWfJV0L-t"
      },
      "execution_count": null,
      "outputs": []
    },
    {
      "cell_type": "markdown",
      "source": [
        "**Exercise 3**"
      ],
      "metadata": {
        "id": "6sCg2DPm0MDW"
      }
    },
    {
      "cell_type": "code",
      "source": [
        "numberOfTimes = int(input(\"Enter a number: \"))\n",
        "i = 1\n",
        "while(i <= numberOfTimes):\n",
        "  print(\"Python is fun\")\n",
        "  i = i+1"
      ],
      "metadata": {
        "id": "OZhRaH_y0M_m"
      },
      "execution_count": null,
      "outputs": []
    },
    {
      "cell_type": "markdown",
      "source": [
        "**Error 1**"
      ],
      "metadata": {
        "id": "7t-mATGL0SX9"
      }
    },
    {
      "cell_type": "code",
      "source": [
        "i = 1\n",
        "while(i <= 5):\n",
        "  print(i)"
      ],
      "metadata": {
        "id": "TDVx3Puf0Tb3"
      },
      "execution_count": null,
      "outputs": []
    },
    {
      "cell_type": "markdown",
      "source": [
        "**Error 2**"
      ],
      "metadata": {
        "id": "UXHLJ-7h0Tgd"
      }
    },
    {
      "cell_type": "code",
      "source": [
        "i = 1\n",
        "while(i <= 5):\n",
        "  print(i)\n",
        "i = i+1"
      ],
      "metadata": {
        "id": "Dcn81klM0Uu1"
      },
      "execution_count": null,
      "outputs": []
    },
    {
      "cell_type": "markdown",
      "source": [
        "**Error 3**"
      ],
      "metadata": {
        "id": "EwWsbwP00U0U"
      }
    },
    {
      "cell_type": "code",
      "source": [
        "i = 1\n",
        "while(i >= 0):\n",
        "  print(i)\n",
        "  i = i+1"
      ],
      "metadata": {
        "id": "jRFr4CX00XI2"
      },
      "execution_count": null,
      "outputs": []
    },
    {
      "cell_type": "markdown",
      "source": [
        "**Sentinel-controlled loops**"
      ],
      "metadata": {
        "id": "kk_3fAih0cae"
      }
    },
    {
      "cell_type": "code",
      "source": [
        "name = \"\"\n",
        "while(name != \"Daniel\"):\n",
        "  name = input(\"Enter a name: \")\n",
        "\n",
        "print(\"Welcome\")"
      ],
      "metadata": {
        "id": "447mqK710dAW"
      },
      "execution_count": null,
      "outputs": []
    },
    {
      "cell_type": "markdown",
      "source": [
        "**Break statement**"
      ],
      "metadata": {
        "id": "8LIVIPY-0gSl"
      }
    },
    {
      "cell_type": "code",
      "source": [
        "while(True):\n",
        "  capital = input(\"Columbus is the capital city of which US state?: \")\n",
        "  if(capital == \"Ohio\"):\n",
        "    print(\"Congratulations, you won the trivia!\")\n",
        "    break\n",
        "\n",
        "print(\"End of program\")"
      ],
      "metadata": {
        "id": "lWQ0CRtw0g70"
      },
      "execution_count": null,
      "outputs": []
    },
    {
      "cell_type": "markdown",
      "source": [
        "**Exercise E9.1.**"
      ],
      "metadata": {
        "id": "cZzffzMV0j29"
      }
    },
    {
      "cell_type": "code",
      "source": [
        "i = 1\n",
        "while(i < 3):\n",
        "  print(i)\n",
        "  i = i+1\n",
        "print(\"End of program\")"
      ],
      "metadata": {
        "id": "RGsWDQJ60mBG"
      },
      "execution_count": null,
      "outputs": []
    },
    {
      "cell_type": "markdown",
      "source": [
        "**Exercise E9.3.**"
      ],
      "metadata": {
        "id": "AoAiQrfS0mIe"
      }
    },
    {
      "cell_type": "code",
      "source": [
        "i = int(input(\"Enter a number: \"))\n",
        "while(i <= 6):\n",
        "  print(i)\n",
        "  i = i+3"
      ],
      "metadata": {
        "id": "TFMwmPqN0pgu"
      },
      "execution_count": null,
      "outputs": []
    }
  ]
}