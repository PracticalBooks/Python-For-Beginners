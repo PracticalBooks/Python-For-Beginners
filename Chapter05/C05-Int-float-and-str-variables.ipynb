{
  "nbformat": 4,
  "nbformat_minor": 0,
  "metadata": {
    "colab": {
      "provenance": []
    },
    "kernelspec": {
      "name": "python3",
      "display_name": "Python 3"
    },
    "language_info": {
      "name": "python"
    }
  },
  "cells": [
    {
      "cell_type": "markdown",
      "source": [
        "**Creation of a variable**"
      ],
      "metadata": {
        "id": "Es_7xcVTopTA"
      }
    },
    {
      "cell_type": "code",
      "execution_count": null,
      "metadata": {
        "id": "vAQs1Iawobos"
      },
      "outputs": [],
      "source": [
        "age = 21"
      ]
    },
    {
      "cell_type": "markdown",
      "source": [
        "**Types of variables**"
      ],
      "metadata": {
        "id": "i-MHxemFow23"
      }
    },
    {
      "cell_type": "code",
      "source": [
        "name = \"Maria\"\n",
        "age = 21\n",
        "height = 164.1"
      ],
      "metadata": {
        "id": "hDXRSLe0oywI"
      },
      "execution_count": null,
      "outputs": []
    },
    {
      "cell_type": "markdown",
      "source": [
        "**Printing variables**"
      ],
      "metadata": {
        "id": "EuqqPPhio0hQ"
      }
    },
    {
      "cell_type": "code",
      "source": [
        "name = \"Maria\"\n",
        "age = 21\n",
        "height = 164.1\n",
        "\n",
        "print(name)\n",
        "print(age)\n",
        "print(height)"
      ],
      "metadata": {
        "id": "ojtGMIFCo2Ph"
      },
      "execution_count": null,
      "outputs": []
    },
    {
      "cell_type": "markdown",
      "source": [
        "**Error in printing**"
      ],
      "metadata": {
        "id": "pwHEMSC1o35R"
      }
    },
    {
      "cell_type": "code",
      "source": [
        "age = 21\n",
        "print(agee)"
      ],
      "metadata": {
        "id": "Wq0SuOwxp6NH"
      },
      "execution_count": null,
      "outputs": []
    },
    {
      "cell_type": "markdown",
      "source": [
        "**Modifying the value of a variable**"
      ],
      "metadata": {
        "id": "IRHwXuXjqEP3"
      }
    },
    {
      "cell_type": "code",
      "source": [
        "productPrice = 150\n",
        "print(productPrice)\n",
        "productPrice = 250\n",
        "print(productPrice)"
      ],
      "metadata": {
        "id": "RfktSvkyqE_2"
      },
      "execution_count": null,
      "outputs": []
    },
    {
      "cell_type": "markdown",
      "source": [
        "**Modifying the value and type of a variable**"
      ],
      "metadata": {
        "id": "8u4Le2x_qH1e"
      }
    },
    {
      "cell_type": "code",
      "source": [
        "productPrice = 150\n",
        "print(productPrice)\n",
        "productPrice = 250.5\n",
        "print(productPrice)"
      ],
      "metadata": {
        "id": "0tuW7fhzqIfI"
      },
      "execution_count": null,
      "outputs": []
    },
    {
      "cell_type": "markdown",
      "source": [
        "**Reusing variables to define new variables**"
      ],
      "metadata": {
        "id": "GGBSXdp3qL4Y"
      }
    },
    {
      "cell_type": "code",
      "source": [
        "luisAge = 10\n",
        "lauraAge = 20\n",
        "sum = luisAge + lauraAge\n",
        "average = sum/2\n",
        "print(average)"
      ],
      "metadata": {
        "id": "l7AWpPRyqMmK"
      },
      "execution_count": null,
      "outputs": []
    },
    {
      "cell_type": "markdown",
      "source": [
        "**The type function**"
      ],
      "metadata": {
        "id": "RiR98c12qOG4"
      }
    },
    {
      "cell_type": "code",
      "source": [
        "productPrice = 150\n",
        "print(type(productPrice))\n",
        "productPrice = 250.5\n",
        "print(type(productPrice))"
      ],
      "metadata": {
        "id": "czPtHx0pqQ_X"
      },
      "execution_count": null,
      "outputs": []
    },
    {
      "cell_type": "markdown",
      "source": [
        "**Comments in Python**"
      ],
      "metadata": {
        "id": "C0WJ4Fb0qTdg"
      }
    },
    {
      "cell_type": "code",
      "source": [
        "# The following line represents the monthly salary of a person\n",
        "salary = 5000\n",
        "\n",
        "\"\"\" We will divide the salary by 2 to distribute it among the family\n",
        "members and print the result to the screen \"\"\"\n",
        "print(salary/2)"
      ],
      "metadata": {
        "id": "BgiGDZk3qUDn"
      },
      "execution_count": null,
      "outputs": []
    },
    {
      "cell_type": "markdown",
      "source": [
        "**Exercise E5.1.**"
      ],
      "metadata": {
        "id": "scSb819KqZ5I"
      }
    },
    {
      "cell_type": "code",
      "source": [
        "totalToPay = 1450.7\n",
        "productName = \"iPhone 14\"\n",
        "satellites = 7\n",
        "engines = \"4\""
      ],
      "metadata": {
        "id": "6_LKmcyLqcgG"
      },
      "execution_count": null,
      "outputs": []
    },
    {
      "cell_type": "markdown",
      "source": [
        "**Exercise E5.3.**"
      ],
      "metadata": {
        "id": "rsoBx5kAqcx3"
      }
    },
    {
      "cell_type": "code",
      "source": [
        "cat age = 7\n",
        "my_email = \"test@gmail.com\"\n",
        "duplicatedEmail = my_email"
      ],
      "metadata": {
        "id": "tZe4BFw4qhCf"
      },
      "execution_count": null,
      "outputs": []
    }
  ]
}