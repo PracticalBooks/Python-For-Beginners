{
  "nbformat": 4,
  "nbformat_minor": 0,
  "metadata": {
    "colab": {
      "provenance": []
    },
    "kernelspec": {
      "name": "python3",
      "display_name": "Python 3"
    },
    "language_info": {
      "name": "python"
    }
  },
  "cells": [
    {
      "cell_type": "markdown",
      "source": [
        "**str Variables**"
      ],
      "metadata": {
        "id": "9pE3fI9U1EiU"
      }
    },
    {
      "cell_type": "code",
      "execution_count": null,
      "metadata": {
        "id": "RU-WRy3R0wBF"
      },
      "outputs": [],
      "source": [
        "firstName = \"Juliana\"\n",
        "lastName = 'Parra'\n",
        "fullName = firstName + \" \" + lastName\n",
        "\n",
        "print(fullName)\n",
        "print(\"30 years old\")\n",
        "print(type(fullName))"
      ]
    },
    {
      "cell_type": "markdown",
      "source": [
        "**Properties of strings**"
      ],
      "metadata": {
        "id": "Tt0Dkm1F1InN"
      }
    },
    {
      "cell_type": "code",
      "source": [
        "message = \"A Good Day!\""
      ],
      "metadata": {
        "id": "aGcBSdnS1JvE"
      },
      "execution_count": null,
      "outputs": []
    },
    {
      "cell_type": "markdown",
      "source": [
        "**Getting the length of a string**"
      ],
      "metadata": {
        "id": "gpnxizkY1MZs"
      }
    },
    {
      "cell_type": "code",
      "source": [
        "message = \"A Good Day!\"\n",
        "\n",
        "len1 = len(message)\n",
        "len2 = len(\"Medellín\")\n",
        "\n",
        "print(len1)\n",
        "print(len2)"
      ],
      "metadata": {
        "id": "LM15ubIr1M8t"
      },
      "execution_count": null,
      "outputs": []
    },
    {
      "cell_type": "markdown",
      "source": [
        "**Extraction of a character**"
      ],
      "metadata": {
        "id": "sGRivAGe1QeW"
      }
    },
    {
      "cell_type": "code",
      "source": [
        "message = \"A Good Day!\"\n",
        "char0 = message[0]\n",
        "char4 = message[4]\n",
        "charLast = message[len(message)-1]\n",
        "\n",
        "print(char0)\n",
        "print(char4)\n",
        "print(charLast)"
      ],
      "metadata": {
        "id": "DB4TEg2Q1RK1"
      },
      "execution_count": null,
      "outputs": []
    },
    {
      "cell_type": "markdown",
      "source": [
        "**Extraction of a character (error)**"
      ],
      "metadata": {
        "id": "SVv5L0xJ1UL9"
      }
    },
    {
      "cell_type": "code",
      "source": [
        "brand = \"Tesla\"\n",
        "char6 = brand[6]\n",
        "print(char6)"
      ],
      "metadata": {
        "id": "cc-qsv7y1VL9"
      },
      "execution_count": null,
      "outputs": []
    },
    {
      "cell_type": "markdown",
      "source": [
        "**Extraction of a substring**"
      ],
      "metadata": {
        "id": "IESMxSFk1Was"
      }
    },
    {
      "cell_type": "code",
      "source": [
        "text = \"Price: 250\"\n",
        "subString1 = text[0:6]\n",
        "subString2 = text[7:10]\n",
        "\n",
        "print(subString1)\n",
        "print(subString2)"
      ],
      "metadata": {
        "id": "a4UMP8n51YNt"
      },
      "execution_count": null,
      "outputs": []
    },
    {
      "cell_type": "markdown",
      "source": [
        "**Searching for a character or substring in a string**"
      ],
      "metadata": {
        "id": "LDZHoVmf1c-N"
      }
    },
    {
      "cell_type": "code",
      "source": [
        "message = \"A Good Day!\"\n",
        "indexO = message.find(\"o\")\n",
        "indexGood = message.find(\"Good\")\n",
        "indexZ = message.find(\"Z\")\n",
        "\n",
        "print(indexO)\n",
        "print(indexGood)\n",
        "print(indexZ)"
      ],
      "metadata": {
        "id": "dH6aQRA31dsk"
      },
      "execution_count": null,
      "outputs": []
    },
    {
      "cell_type": "markdown",
      "source": [
        "**Function vs method**"
      ],
      "metadata": {
        "id": "UCb8sWsZ1mzV"
      }
    },
    {
      "cell_type": "code",
      "source": [
        "message = \"A Good Day!\"\n",
        "indexA = message.find(\"A\")\n",
        "print(indexA)\n",
        "\n",
        "age = 28\n",
        "index8 = age.find(8)"
      ],
      "metadata": {
        "id": "vdyAtQVd1p0e"
      },
      "execution_count": null,
      "outputs": []
    },
    {
      "cell_type": "markdown",
      "source": [
        "**Searching for a character or substring based on an start index**"
      ],
      "metadata": {
        "id": "fbX0UUpR1lVl"
      }
    },
    {
      "cell_type": "code",
      "source": [
        "product = \"Laser-100-20\"\n",
        "indexDash1 = product.find(\"-\")\n",
        "indexDash2 = product.find(\"-\", indexDash1+1)\n",
        "subStringQuantity = product[indexDash2+1:len(product)]\n",
        "\n",
        "print(indexDash1)\n",
        "print(indexDash2)\n",
        "print(subStringQuantity)"
      ],
      "metadata": {
        "id": "c3mV-vQp1rbM"
      },
      "execution_count": null,
      "outputs": []
    },
    {
      "cell_type": "markdown",
      "source": [
        "**Other methods**"
      ],
      "metadata": {
        "id": "CIUuP55_1txs"
      }
    },
    {
      "cell_type": "code",
      "source": [
        "message = \"Location: Provenza\"\n",
        "\n",
        "messageLower  = message.lower() # returns the lowercase string \n",
        "print(messageLower)\n",
        "\n",
        "messageUpper = message.upper() #  returns the uppercased string \n",
        "print(messageUpper)\n",
        "\n",
        "countA = message.count(\"a\") # returns the number of times that \"a\" appears\n",
        "print(countA)\n",
        "\n",
        "newMessage = message.replace(\"a\", \"x\") # returns the string replacing \"a\" by \"x\"\n",
        "print(newMessage)"
      ],
      "metadata": {
        "id": "tkKFJFcB1w80"
      },
      "execution_count": null,
      "outputs": []
    },
    {
      "cell_type": "markdown",
      "source": [
        "**Loops with strings**"
      ],
      "metadata": {
        "id": "pHiUSpSv101s"
      }
    },
    {
      "cell_type": "code",
      "source": [
        "word = input(\"Enter a word: \")\n",
        "\n",
        "i = 0\n",
        "while(i < len(word)):\n",
        "  print(word[i])\n",
        "  i = i+1"
      ],
      "metadata": {
        "id": "m54hqfqV11ZE"
      },
      "execution_count": null,
      "outputs": []
    },
    {
      "cell_type": "markdown",
      "source": [
        "**Exercise E10.1.**"
      ],
      "metadata": {
        "id": "VG4BzruJ15sE"
      }
    },
    {
      "cell_type": "code",
      "source": [
        "text = \"Ginza\"\n",
        "print(text[0])\n",
        "print(text[0:3])\n",
        "indexZ = text.find(\"z\")\n",
        "print(indexZ)"
      ],
      "metadata": {
        "id": "rb_aCshJ16Xs"
      },
      "execution_count": null,
      "outputs": []
    },
    {
      "cell_type": "markdown",
      "source": [
        "**Exercise E10.3.**"
      ],
      "metadata": {
        "id": "pZsG2aUD16c9"
      }
    },
    {
      "cell_type": "code",
      "source": [
        "word = input()\n",
        "print(word[len(word)-1])"
      ],
      "metadata": {
        "id": "Dl-DNqB017Yu"
      },
      "execution_count": null,
      "outputs": []
    },
    {
      "cell_type": "markdown",
      "source": [
        "**Exercise E10.6.**"
      ],
      "metadata": {
        "id": "Cg8iuBi517eW"
      }
    },
    {
      "cell_type": "code",
      "source": [
        "\n",
        "\n",
        "\n",
        "  if(word[i] != \"a\" and word[i] != \"e\" and word[i] != \"i\" and word[i] != \"o\" and word[i] != \"u\"):\n",
        "    print(word[i])\n"
      ],
      "metadata": {
        "id": "mLd2vBM-18LF"
      },
      "execution_count": null,
      "outputs": []
    }
  ]
}