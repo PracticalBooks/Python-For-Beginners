{
  "nbformat": 4,
  "nbformat_minor": 0,
  "metadata": {
    "colab": {
      "provenance": []
    },
    "kernelspec": {
      "name": "python3",
      "display_name": "Python 3"
    },
    "language_info": {
      "name": "python"
    }
  },
  "cells": [
    {
      "cell_type": "markdown",
      "source": [
        "**Creating a tuple**"
      ],
      "metadata": {
        "id": "72LEits-jSWy"
      }
    },
    {
      "cell_type": "code",
      "execution_count": null,
      "metadata": {
        "id": "AsKFMUjci49a"
      },
      "outputs": [],
      "source": [
        "ages = (28, 67, 40, 15)"
      ]
    },
    {
      "cell_type": "code",
      "source": [
        "colors = (\"Yellow\", \"Blue\", \"Red\")\n",
        "print(colors)\n",
        "print(type(colors))"
      ],
      "metadata": {
        "id": "KJLTbAKgjWRZ"
      },
      "execution_count": null,
      "outputs": []
    },
    {
      "cell_type": "markdown",
      "source": [
        "**Accessing elements of a tuple**"
      ],
      "metadata": {
        "id": "4gIbIRQujZ44"
      }
    },
    {
      "cell_type": "code",
      "source": [
        "players = (\"Cristiano\", \"Messi\", \"Díaz\", \"Mbappé\")\n",
        "print(players[0])\n",
        "print(players[len(players)-1])"
      ],
      "metadata": {
        "id": "ZwfmcXRnjajY"
      },
      "execution_count": null,
      "outputs": []
    },
    {
      "cell_type": "markdown",
      "source": [
        "**Invalid operation**"
      ],
      "metadata": {
        "id": "FsF7fJmRjswf"
      }
    },
    {
      "cell_type": "code",
      "source": [
        "players = (\"Cristiano\", \"Messi\", \"Díaz\", \"Mbappé\")\n",
        "players[0] = \"Haaland\""
      ],
      "metadata": {
        "id": "Bep5yyy8jtZP"
      },
      "execution_count": null,
      "outputs": []
    },
    {
      "cell_type": "markdown",
      "source": [
        "**Creating a set**"
      ],
      "metadata": {
        "id": "nEYuHF8Ijxov"
      }
    },
    {
      "cell_type": "code",
      "source": [
        "ages = {28, 67, 40, 15}"
      ],
      "metadata": {
        "id": "dMrukzxZjySg"
      },
      "execution_count": null,
      "outputs": []
    },
    {
      "cell_type": "code",
      "source": [
        "planets = {\"Earth\", \"Mars\", \"Uranus\", \"Uranus\"}\n",
        "print(planets)\n",
        "print(type(planets))"
      ],
      "metadata": {
        "id": "5OP4QWoVj1iJ"
      },
      "execution_count": null,
      "outputs": []
    },
    {
      "cell_type": "markdown",
      "source": [
        "**Accessing elements of a set (error)**"
      ],
      "metadata": {
        "id": "rGd94AR2j56H"
      }
    },
    {
      "cell_type": "code",
      "source": [
        "planets = {\"Earth\", \"Mars\", \"Uranus\", \"Uranus\"}\n",
        "print(planets[0])"
      ],
      "metadata": {
        "id": "ruecZbdhj7iY"
      },
      "execution_count": null,
      "outputs": []
    },
    {
      "cell_type": "markdown",
      "source": [
        "**Accessing elements of a set**"
      ],
      "metadata": {
        "id": "5Dpp9vSQj-W_"
      }
    },
    {
      "cell_type": "code",
      "source": [
        "planets = {\"Earth\", \"Mars\", \"Uranus\"}\n",
        "for planet in planets:\n",
        "  print(planet)"
      ],
      "metadata": {
        "id": "ylmIcpxQkAr5"
      },
      "execution_count": null,
      "outputs": []
    },
    {
      "cell_type": "markdown",
      "source": [
        "**Adding elements to a set**"
      ],
      "metadata": {
        "id": "YbeT2Xb5kCwg"
      }
    },
    {
      "cell_type": "code",
      "source": [
        "planets = {\"Earth\", \"Mars\", \"Uranus\"}\n",
        "planets.add(\"Jupiter\")\n",
        "print(planets)"
      ],
      "metadata": {
        "id": "ByOFZRIikDX3"
      },
      "execution_count": null,
      "outputs": []
    },
    {
      "cell_type": "markdown",
      "source": [
        "**Removing elements from a set**"
      ],
      "metadata": {
        "id": "BqgBs2qXkFde"
      }
    },
    {
      "cell_type": "code",
      "source": [
        "planets = {\"Earth\", \"Mars\", \"Uranus\"}\n",
        "planets.remove(\"Earth\")\n",
        "print(planets)"
      ],
      "metadata": {
        "id": "xRmNqrdQkGMm"
      },
      "execution_count": null,
      "outputs": []
    }
  ]
}